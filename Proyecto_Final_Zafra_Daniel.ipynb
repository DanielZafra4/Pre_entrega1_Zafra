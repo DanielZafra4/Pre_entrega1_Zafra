{
  "nbformat": 4,
  "nbformat_minor": 0,
  "metadata": {
    "colab": {
      "provenance": [],
      "toc_visible": true,
      "authorship_tag": "ABX9TyM4QdJ7hUrUMcOyhM5VfpVq",
      "include_colab_link": true
    },
    "kernelspec": {
      "name": "python3",
      "display_name": "Python 3"
    },
    "language_info": {
      "name": "python"
    }
  },
  "cells": [
    {
      "cell_type": "markdown",
      "metadata": {
        "id": "view-in-github",
        "colab_type": "text"
      },
      "source": [
        "<a href=\"https://colab.research.google.com/github/DanielZafra4/Proyecto_Final_Zafra_DS1/blob/main/Proyecto_Final_Zafra_Daniel.ipynb\" target=\"_parent\"><img src=\"https://colab.research.google.com/assets/colab-badge.svg\" alt=\"Open In Colab\"/></a>"
      ]
    },
    {
      "cell_type": "markdown",
      "source": [
        "#**Análisis Car Accident Dataset**"
      ],
      "metadata": {
        "id": "tE_uKr96ry22"
      }
    },
    {
      "cell_type": "markdown",
      "source": [
        "##**1. Descripción de la temática**\n",
        "\n",
        "El presente proyecto tiene como objetivo analizar un dataset detallado sobre accidentes de automóviles ocurridos en un área urbana durante enero de 2021. Este conjunto de datos extraido de la plataforma ***Kaggle (***https://www.kaggle.com/datasets/nextmillionaire/car-accident-dataset)\n",
        " incluye información clave, como la fecha y el día de la semana en que ocurrieron los accidentes, el tipo de control en intersecciones, la gravedad de los accidentes, entre otros.\n",
        "\n",
        "El análisis se realiza con el propósito de identificar patrones significativos en los accidentes viales, con especial énfasis en comprender los factores que los provocan y aumentan su severidad. Los resultados servirán como base para diseñar estrategias de prevención y mejora en la seguridad vial, buscando reducir la ocurrencia de accidentes y mitigar su impacto.\n",
        "\n",
        "Específicamente, este análisis busca:\n",
        "\n",
        "\n",
        "*   **Detectar puntos críticos y horarios de mayor incidencia:** Analizando la distribución geográfica y temporal de los accidentes para identificar zonas de alto riesgo y momentos del día con mayor frecuencia de incidentes.\n",
        "\n",
        "*  **Evaluar el impacto de factores ambientales y estructurales:** Estudiando cómo las condiciones climáticas, de iluminación y de diseño vial contribuyen a la ocurrencia de accidentes.\n",
        "\n",
        "*   **Relacionar la gravedad de los accidentes con factores humanos y vehiculares:** Explorando datos sobre vehículos involucrados y su interacción con las condiciones del entorno para entender mejor las causas de accidentes graves.\n",
        "\n",
        "*   **Proponer medidas preventivas basadas en evidencia:** Desarrollando recomendaciones específicas, como mejoras en el diseño de intersecciones, gestión de tráfico en horarios críticos, campañas de concienciación y adaptaciones en las infraestructuras.\n",
        "\n",
        "La relevancia de este análisis radica en su potencial para salvar vidas al contribuir al diseño de políticas públicas, intervenciones urbanas y programas de concienciación más efectivos. Al entender mejor los patrones detrás de los accidentes, se pueden establecer estrategias proactivas para minimizar los riesgos y garantizar una movilidad más segura para todos los usuarios de la vía.\n",
        "\n"
      ],
      "metadata": {
        "id": "F16-aWRSPrS9"
      }
    },
    {
      "cell_type": "markdown",
      "source": [
        "##**2. Carga del dataset desde la URL**"
      ],
      "metadata": {
        "id": "mgmX4FE7sCrO"
      }
    },
    {
      "cell_type": "markdown",
      "source": [
        "En esta ocasión importamos el archivo desde el repositorio de GitHub especificando el raw corresponidente al archivo *Car.csv*, tambien importamos las librerías que vamos a necesitar."
      ],
      "metadata": {
        "id": "C6cQuqY-OWRx"
      }
    },
    {
      "cell_type": "markdown",
      "source": [
        "###**Librerías**"
      ],
      "metadata": {
        "id": "seqTN1T5zgem"
      }
    },
    {
      "cell_type": "code",
      "source": [
        "import pandas as pd\n",
        "import numpy as np\n",
        "import matplotlib.pyplot as plt\n",
        "import seaborn as sns\n",
        "from sklearn.preprocessing import LabelEncoder, StandardScaler\n",
        "from sklearn.model_selection import train_test_split\n",
        "from sklearn.tree import DecisionTreeClassifier, plot_tree\n",
        "from sklearn.metrics import accuracy_score, precision_score, recall_score, f1_score, confusion_matrix\n",
        "from sklearn.neighbors import KNeighborsClassifier\n",
        "from sklearn.ensemble import RandomForestClassifier\n",
        "from imblearn.over_sampling import SMOTE\n",
        "from collections import Counter\n",
        "from sklearn.metrics import confusion_matrix"
      ],
      "metadata": {
        "id": "yew3dsXoslcZ"
      },
      "execution_count": 2,
      "outputs": []
    },
    {
      "cell_type": "markdown",
      "source": [
        "Se carga el dataset desde un archivo CSV alojado en un repositorio de GitHub."
      ],
      "metadata": {
        "id": "MzjylKI_WNdi"
      }
    },
    {
      "cell_type": "markdown",
      "source": [
        "###**DataSet**"
      ],
      "metadata": {
        "id": "j2xeeanqzoAZ"
      }
    },
    {
      "cell_type": "code",
      "source": [
        "url = 'https://raw.githubusercontent.com/DanielZafra4/Pre_entrega1/refs/heads/main/Car.csv'\n",
        "data = pd.read_csv(url, index_col=0,  sep=\";\")\n",
        "data.head(10)"
      ],
      "metadata": {
        "colab": {
          "base_uri": "https://localhost:8080/",
          "height": 585
        },
        "id": "hlJrSdhBsZuh",
        "outputId": "11399173-1a11-4262-afef-c96e9e51dd4c"
      },
      "execution_count": 3,
      "outputs": [
        {
          "output_type": "execute_result",
          "data": {
            "text/plain": [
              "      Accident Date Day of Week Accident Severity    Latitude  Longitude  \\\n",
              "Index                                                                      \n",
              "1        01/01/2021    Thursday           Serious  51.512.273  -0.201349   \n",
              "2        01/01/2021    Thursday            Slight  51.493.415  -0.185525   \n",
              "3        01/01/2021    Thursday           Serious  51.523.932   -0.15303   \n",
              "4        01/01/2021    Thursday            Slight  51.514.015  -0.151413   \n",
              "5        01/01/2021    Thursday           Serious  51.543.017  -0.137258   \n",
              "6        01/01/2021    Thursday            Slight  51.503.254  -0.223174   \n",
              "7        01/01/2021    Thursday            Slight  51.563.718  -0.060663   \n",
              "8        01/01/2021    Thursday            Slight  51.540.314  -0.070167   \n",
              "9        01/01/2021    Thursday           Serious  51.520.825  -0.071712   \n",
              "10       01/01/2021    Thursday            Slight  51.569.118  -0.028543   \n",
              "\n",
              "            Light Conditions                District  Number of Casualties  \\\n",
              "Index                                                                        \n",
              "1                   Daylight  Kensington and Chelsea                     1   \n",
              "2                   Daylight  Kensington and Chelsea                     3   \n",
              "3      Darkness - lights lit             Westminster                     1   \n",
              "4                   Daylight             Westminster                     2   \n",
              "5                   Daylight                  Camden                     1   \n",
              "6      Darkness - lights lit  Hammersmith and Fulham                     1   \n",
              "7      Darkness - lights lit                 Hackney                     1   \n",
              "8      Darkness - lights lit                 Hackney                     1   \n",
              "9                   Daylight           Tower Hamlets                     1   \n",
              "10                  Daylight          Waltham Forest                     1   \n",
              "\n",
              "       Number of Vehicles         Police Force Road Surface Conditions  \\\n",
              "Index                                                                    \n",
              "1                       2  Metropolitan Police                     Dry   \n",
              "2                       2  Metropolitan Police                     Dry   \n",
              "3                       2  Metropolitan Police                     Dry   \n",
              "4                       2  Metropolitan Police             Wet or damp   \n",
              "5                       1  Metropolitan Police                     Dry   \n",
              "6                       1  Metropolitan Police                     Dry   \n",
              "7                       2  Metropolitan Police                     Dry   \n",
              "8                       1  Metropolitan Police                     Dry   \n",
              "9                       1  Metropolitan Police                     Dry   \n",
              "10                      1  Metropolitan Police                     Dry   \n",
              "\n",
              "                Road Type  Speed limit      Time   Area  \\\n",
              "Index                                                     \n",
              "1          One way street           30  15:11:00  Urban   \n",
              "2      Single carriageway           30  11:48:00  Urban   \n",
              "3      Single carriageway           30  17:30:00  Urban   \n",
              "4      Single carriageway           30   9:01:00  Urban   \n",
              "5        Dual carriageway           30   5:29:00  Urban   \n",
              "6          One way street           30   2:40:00  Urban   \n",
              "7      Single carriageway           30  21:23:00  Urban   \n",
              "8      Single carriageway           30  22:25:00  Urban   \n",
              "9          One way street           30   3:44:00  Urban   \n",
              "10     Single carriageway           30  16:30:00  Urban   \n",
              "\n",
              "          Weather Conditions Vehicle Type  \n",
              "Index                                      \n",
              "1         Fine no high winds          Car  \n",
              "2         Fine no high winds          Car  \n",
              "3         Fine no high winds   Motorcycle  \n",
              "4      Raining no high winds          Car  \n",
              "5         Fine no high winds          Car  \n",
              "6         Fine no high winds   Motorcycle  \n",
              "7         Fine no high winds          Car  \n",
              "8         Fine no high winds          Car  \n",
              "9         Fine no high winds          Bus  \n",
              "10        Fine no high winds          Car  "
            ],
            "text/html": [
              "\n",
              "  <div id=\"df-cbc2b5de-9b30-408d-a9c4-96406340e6fd\" class=\"colab-df-container\">\n",
              "    <div>\n",
              "<style scoped>\n",
              "    .dataframe tbody tr th:only-of-type {\n",
              "        vertical-align: middle;\n",
              "    }\n",
              "\n",
              "    .dataframe tbody tr th {\n",
              "        vertical-align: top;\n",
              "    }\n",
              "\n",
              "    .dataframe thead th {\n",
              "        text-align: right;\n",
              "    }\n",
              "</style>\n",
              "<table border=\"1\" class=\"dataframe\">\n",
              "  <thead>\n",
              "    <tr style=\"text-align: right;\">\n",
              "      <th></th>\n",
              "      <th>Accident Date</th>\n",
              "      <th>Day of Week</th>\n",
              "      <th>Accident Severity</th>\n",
              "      <th>Latitude</th>\n",
              "      <th>Longitude</th>\n",
              "      <th>Light Conditions</th>\n",
              "      <th>District</th>\n",
              "      <th>Number of Casualties</th>\n",
              "      <th>Number of Vehicles</th>\n",
              "      <th>Police Force</th>\n",
              "      <th>Road Surface Conditions</th>\n",
              "      <th>Road Type</th>\n",
              "      <th>Speed limit</th>\n",
              "      <th>Time</th>\n",
              "      <th>Area</th>\n",
              "      <th>Weather Conditions</th>\n",
              "      <th>Vehicle Type</th>\n",
              "    </tr>\n",
              "    <tr>\n",
              "      <th>Index</th>\n",
              "      <th></th>\n",
              "      <th></th>\n",
              "      <th></th>\n",
              "      <th></th>\n",
              "      <th></th>\n",
              "      <th></th>\n",
              "      <th></th>\n",
              "      <th></th>\n",
              "      <th></th>\n",
              "      <th></th>\n",
              "      <th></th>\n",
              "      <th></th>\n",
              "      <th></th>\n",
              "      <th></th>\n",
              "      <th></th>\n",
              "      <th></th>\n",
              "      <th></th>\n",
              "    </tr>\n",
              "  </thead>\n",
              "  <tbody>\n",
              "    <tr>\n",
              "      <th>1</th>\n",
              "      <td>01/01/2021</td>\n",
              "      <td>Thursday</td>\n",
              "      <td>Serious</td>\n",
              "      <td>51.512.273</td>\n",
              "      <td>-0.201349</td>\n",
              "      <td>Daylight</td>\n",
              "      <td>Kensington and Chelsea</td>\n",
              "      <td>1</td>\n",
              "      <td>2</td>\n",
              "      <td>Metropolitan Police</td>\n",
              "      <td>Dry</td>\n",
              "      <td>One way street</td>\n",
              "      <td>30</td>\n",
              "      <td>15:11:00</td>\n",
              "      <td>Urban</td>\n",
              "      <td>Fine no high winds</td>\n",
              "      <td>Car</td>\n",
              "    </tr>\n",
              "    <tr>\n",
              "      <th>2</th>\n",
              "      <td>01/01/2021</td>\n",
              "      <td>Thursday</td>\n",
              "      <td>Slight</td>\n",
              "      <td>51.493.415</td>\n",
              "      <td>-0.185525</td>\n",
              "      <td>Daylight</td>\n",
              "      <td>Kensington and Chelsea</td>\n",
              "      <td>3</td>\n",
              "      <td>2</td>\n",
              "      <td>Metropolitan Police</td>\n",
              "      <td>Dry</td>\n",
              "      <td>Single carriageway</td>\n",
              "      <td>30</td>\n",
              "      <td>11:48:00</td>\n",
              "      <td>Urban</td>\n",
              "      <td>Fine no high winds</td>\n",
              "      <td>Car</td>\n",
              "    </tr>\n",
              "    <tr>\n",
              "      <th>3</th>\n",
              "      <td>01/01/2021</td>\n",
              "      <td>Thursday</td>\n",
              "      <td>Serious</td>\n",
              "      <td>51.523.932</td>\n",
              "      <td>-0.15303</td>\n",
              "      <td>Darkness - lights lit</td>\n",
              "      <td>Westminster</td>\n",
              "      <td>1</td>\n",
              "      <td>2</td>\n",
              "      <td>Metropolitan Police</td>\n",
              "      <td>Dry</td>\n",
              "      <td>Single carriageway</td>\n",
              "      <td>30</td>\n",
              "      <td>17:30:00</td>\n",
              "      <td>Urban</td>\n",
              "      <td>Fine no high winds</td>\n",
              "      <td>Motorcycle</td>\n",
              "    </tr>\n",
              "    <tr>\n",
              "      <th>4</th>\n",
              "      <td>01/01/2021</td>\n",
              "      <td>Thursday</td>\n",
              "      <td>Slight</td>\n",
              "      <td>51.514.015</td>\n",
              "      <td>-0.151413</td>\n",
              "      <td>Daylight</td>\n",
              "      <td>Westminster</td>\n",
              "      <td>2</td>\n",
              "      <td>2</td>\n",
              "      <td>Metropolitan Police</td>\n",
              "      <td>Wet or damp</td>\n",
              "      <td>Single carriageway</td>\n",
              "      <td>30</td>\n",
              "      <td>9:01:00</td>\n",
              "      <td>Urban</td>\n",
              "      <td>Raining no high winds</td>\n",
              "      <td>Car</td>\n",
              "    </tr>\n",
              "    <tr>\n",
              "      <th>5</th>\n",
              "      <td>01/01/2021</td>\n",
              "      <td>Thursday</td>\n",
              "      <td>Serious</td>\n",
              "      <td>51.543.017</td>\n",
              "      <td>-0.137258</td>\n",
              "      <td>Daylight</td>\n",
              "      <td>Camden</td>\n",
              "      <td>1</td>\n",
              "      <td>1</td>\n",
              "      <td>Metropolitan Police</td>\n",
              "      <td>Dry</td>\n",
              "      <td>Dual carriageway</td>\n",
              "      <td>30</td>\n",
              "      <td>5:29:00</td>\n",
              "      <td>Urban</td>\n",
              "      <td>Fine no high winds</td>\n",
              "      <td>Car</td>\n",
              "    </tr>\n",
              "    <tr>\n",
              "      <th>6</th>\n",
              "      <td>01/01/2021</td>\n",
              "      <td>Thursday</td>\n",
              "      <td>Slight</td>\n",
              "      <td>51.503.254</td>\n",
              "      <td>-0.223174</td>\n",
              "      <td>Darkness - lights lit</td>\n",
              "      <td>Hammersmith and Fulham</td>\n",
              "      <td>1</td>\n",
              "      <td>1</td>\n",
              "      <td>Metropolitan Police</td>\n",
              "      <td>Dry</td>\n",
              "      <td>One way street</td>\n",
              "      <td>30</td>\n",
              "      <td>2:40:00</td>\n",
              "      <td>Urban</td>\n",
              "      <td>Fine no high winds</td>\n",
              "      <td>Motorcycle</td>\n",
              "    </tr>\n",
              "    <tr>\n",
              "      <th>7</th>\n",
              "      <td>01/01/2021</td>\n",
              "      <td>Thursday</td>\n",
              "      <td>Slight</td>\n",
              "      <td>51.563.718</td>\n",
              "      <td>-0.060663</td>\n",
              "      <td>Darkness - lights lit</td>\n",
              "      <td>Hackney</td>\n",
              "      <td>1</td>\n",
              "      <td>2</td>\n",
              "      <td>Metropolitan Police</td>\n",
              "      <td>Dry</td>\n",
              "      <td>Single carriageway</td>\n",
              "      <td>30</td>\n",
              "      <td>21:23:00</td>\n",
              "      <td>Urban</td>\n",
              "      <td>Fine no high winds</td>\n",
              "      <td>Car</td>\n",
              "    </tr>\n",
              "    <tr>\n",
              "      <th>8</th>\n",
              "      <td>01/01/2021</td>\n",
              "      <td>Thursday</td>\n",
              "      <td>Slight</td>\n",
              "      <td>51.540.314</td>\n",
              "      <td>-0.070167</td>\n",
              "      <td>Darkness - lights lit</td>\n",
              "      <td>Hackney</td>\n",
              "      <td>1</td>\n",
              "      <td>1</td>\n",
              "      <td>Metropolitan Police</td>\n",
              "      <td>Dry</td>\n",
              "      <td>Single carriageway</td>\n",
              "      <td>30</td>\n",
              "      <td>22:25:00</td>\n",
              "      <td>Urban</td>\n",
              "      <td>Fine no high winds</td>\n",
              "      <td>Car</td>\n",
              "    </tr>\n",
              "    <tr>\n",
              "      <th>9</th>\n",
              "      <td>01/01/2021</td>\n",
              "      <td>Thursday</td>\n",
              "      <td>Serious</td>\n",
              "      <td>51.520.825</td>\n",
              "      <td>-0.071712</td>\n",
              "      <td>Daylight</td>\n",
              "      <td>Tower Hamlets</td>\n",
              "      <td>1</td>\n",
              "      <td>1</td>\n",
              "      <td>Metropolitan Police</td>\n",
              "      <td>Dry</td>\n",
              "      <td>One way street</td>\n",
              "      <td>30</td>\n",
              "      <td>3:44:00</td>\n",
              "      <td>Urban</td>\n",
              "      <td>Fine no high winds</td>\n",
              "      <td>Bus</td>\n",
              "    </tr>\n",
              "    <tr>\n",
              "      <th>10</th>\n",
              "      <td>01/01/2021</td>\n",
              "      <td>Thursday</td>\n",
              "      <td>Slight</td>\n",
              "      <td>51.569.118</td>\n",
              "      <td>-0.028543</td>\n",
              "      <td>Daylight</td>\n",
              "      <td>Waltham Forest</td>\n",
              "      <td>1</td>\n",
              "      <td>1</td>\n",
              "      <td>Metropolitan Police</td>\n",
              "      <td>Dry</td>\n",
              "      <td>Single carriageway</td>\n",
              "      <td>30</td>\n",
              "      <td>16:30:00</td>\n",
              "      <td>Urban</td>\n",
              "      <td>Fine no high winds</td>\n",
              "      <td>Car</td>\n",
              "    </tr>\n",
              "  </tbody>\n",
              "</table>\n",
              "</div>\n",
              "    <div class=\"colab-df-buttons\">\n",
              "\n",
              "  <div class=\"colab-df-container\">\n",
              "    <button class=\"colab-df-convert\" onclick=\"convertToInteractive('df-cbc2b5de-9b30-408d-a9c4-96406340e6fd')\"\n",
              "            title=\"Convert this dataframe to an interactive table.\"\n",
              "            style=\"display:none;\">\n",
              "\n",
              "  <svg xmlns=\"http://www.w3.org/2000/svg\" height=\"24px\" viewBox=\"0 -960 960 960\">\n",
              "    <path d=\"M120-120v-720h720v720H120Zm60-500h600v-160H180v160Zm220 220h160v-160H400v160Zm0 220h160v-160H400v160ZM180-400h160v-160H180v160Zm440 0h160v-160H620v160ZM180-180h160v-160H180v160Zm440 0h160v-160H620v160Z\"/>\n",
              "  </svg>\n",
              "    </button>\n",
              "\n",
              "  <style>\n",
              "    .colab-df-container {\n",
              "      display:flex;\n",
              "      gap: 12px;\n",
              "    }\n",
              "\n",
              "    .colab-df-convert {\n",
              "      background-color: #E8F0FE;\n",
              "      border: none;\n",
              "      border-radius: 50%;\n",
              "      cursor: pointer;\n",
              "      display: none;\n",
              "      fill: #1967D2;\n",
              "      height: 32px;\n",
              "      padding: 0 0 0 0;\n",
              "      width: 32px;\n",
              "    }\n",
              "\n",
              "    .colab-df-convert:hover {\n",
              "      background-color: #E2EBFA;\n",
              "      box-shadow: 0px 1px 2px rgba(60, 64, 67, 0.3), 0px 1px 3px 1px rgba(60, 64, 67, 0.15);\n",
              "      fill: #174EA6;\n",
              "    }\n",
              "\n",
              "    .colab-df-buttons div {\n",
              "      margin-bottom: 4px;\n",
              "    }\n",
              "\n",
              "    [theme=dark] .colab-df-convert {\n",
              "      background-color: #3B4455;\n",
              "      fill: #D2E3FC;\n",
              "    }\n",
              "\n",
              "    [theme=dark] .colab-df-convert:hover {\n",
              "      background-color: #434B5C;\n",
              "      box-shadow: 0px 1px 3px 1px rgba(0, 0, 0, 0.15);\n",
              "      filter: drop-shadow(0px 1px 2px rgba(0, 0, 0, 0.3));\n",
              "      fill: #FFFFFF;\n",
              "    }\n",
              "  </style>\n",
              "\n",
              "    <script>\n",
              "      const buttonEl =\n",
              "        document.querySelector('#df-cbc2b5de-9b30-408d-a9c4-96406340e6fd button.colab-df-convert');\n",
              "      buttonEl.style.display =\n",
              "        google.colab.kernel.accessAllowed ? 'block' : 'none';\n",
              "\n",
              "      async function convertToInteractive(key) {\n",
              "        const element = document.querySelector('#df-cbc2b5de-9b30-408d-a9c4-96406340e6fd');\n",
              "        const dataTable =\n",
              "          await google.colab.kernel.invokeFunction('convertToInteractive',\n",
              "                                                    [key], {});\n",
              "        if (!dataTable) return;\n",
              "\n",
              "        const docLinkHtml = 'Like what you see? Visit the ' +\n",
              "          '<a target=\"_blank\" href=https://colab.research.google.com/notebooks/data_table.ipynb>data table notebook</a>'\n",
              "          + ' to learn more about interactive tables.';\n",
              "        element.innerHTML = '';\n",
              "        dataTable['output_type'] = 'display_data';\n",
              "        await google.colab.output.renderOutput(dataTable, element);\n",
              "        const docLink = document.createElement('div');\n",
              "        docLink.innerHTML = docLinkHtml;\n",
              "        element.appendChild(docLink);\n",
              "      }\n",
              "    </script>\n",
              "  </div>\n",
              "\n",
              "\n",
              "<div id=\"df-32adcd11-0c5d-43a2-a2e1-a91952998e9f\">\n",
              "  <button class=\"colab-df-quickchart\" onclick=\"quickchart('df-32adcd11-0c5d-43a2-a2e1-a91952998e9f')\"\n",
              "            title=\"Suggest charts\"\n",
              "            style=\"display:none;\">\n",
              "\n",
              "<svg xmlns=\"http://www.w3.org/2000/svg\" height=\"24px\"viewBox=\"0 0 24 24\"\n",
              "     width=\"24px\">\n",
              "    <g>\n",
              "        <path d=\"M19 3H5c-1.1 0-2 .9-2 2v14c0 1.1.9 2 2 2h14c1.1 0 2-.9 2-2V5c0-1.1-.9-2-2-2zM9 17H7v-7h2v7zm4 0h-2V7h2v10zm4 0h-2v-4h2v4z\"/>\n",
              "    </g>\n",
              "</svg>\n",
              "  </button>\n",
              "\n",
              "<style>\n",
              "  .colab-df-quickchart {\n",
              "      --bg-color: #E8F0FE;\n",
              "      --fill-color: #1967D2;\n",
              "      --hover-bg-color: #E2EBFA;\n",
              "      --hover-fill-color: #174EA6;\n",
              "      --disabled-fill-color: #AAA;\n",
              "      --disabled-bg-color: #DDD;\n",
              "  }\n",
              "\n",
              "  [theme=dark] .colab-df-quickchart {\n",
              "      --bg-color: #3B4455;\n",
              "      --fill-color: #D2E3FC;\n",
              "      --hover-bg-color: #434B5C;\n",
              "      --hover-fill-color: #FFFFFF;\n",
              "      --disabled-bg-color: #3B4455;\n",
              "      --disabled-fill-color: #666;\n",
              "  }\n",
              "\n",
              "  .colab-df-quickchart {\n",
              "    background-color: var(--bg-color);\n",
              "    border: none;\n",
              "    border-radius: 50%;\n",
              "    cursor: pointer;\n",
              "    display: none;\n",
              "    fill: var(--fill-color);\n",
              "    height: 32px;\n",
              "    padding: 0;\n",
              "    width: 32px;\n",
              "  }\n",
              "\n",
              "  .colab-df-quickchart:hover {\n",
              "    background-color: var(--hover-bg-color);\n",
              "    box-shadow: 0 1px 2px rgba(60, 64, 67, 0.3), 0 1px 3px 1px rgba(60, 64, 67, 0.15);\n",
              "    fill: var(--button-hover-fill-color);\n",
              "  }\n",
              "\n",
              "  .colab-df-quickchart-complete:disabled,\n",
              "  .colab-df-quickchart-complete:disabled:hover {\n",
              "    background-color: var(--disabled-bg-color);\n",
              "    fill: var(--disabled-fill-color);\n",
              "    box-shadow: none;\n",
              "  }\n",
              "\n",
              "  .colab-df-spinner {\n",
              "    border: 2px solid var(--fill-color);\n",
              "    border-color: transparent;\n",
              "    border-bottom-color: var(--fill-color);\n",
              "    animation:\n",
              "      spin 1s steps(1) infinite;\n",
              "  }\n",
              "\n",
              "  @keyframes spin {\n",
              "    0% {\n",
              "      border-color: transparent;\n",
              "      border-bottom-color: var(--fill-color);\n",
              "      border-left-color: var(--fill-color);\n",
              "    }\n",
              "    20% {\n",
              "      border-color: transparent;\n",
              "      border-left-color: var(--fill-color);\n",
              "      border-top-color: var(--fill-color);\n",
              "    }\n",
              "    30% {\n",
              "      border-color: transparent;\n",
              "      border-left-color: var(--fill-color);\n",
              "      border-top-color: var(--fill-color);\n",
              "      border-right-color: var(--fill-color);\n",
              "    }\n",
              "    40% {\n",
              "      border-color: transparent;\n",
              "      border-right-color: var(--fill-color);\n",
              "      border-top-color: var(--fill-color);\n",
              "    }\n",
              "    60% {\n",
              "      border-color: transparent;\n",
              "      border-right-color: var(--fill-color);\n",
              "    }\n",
              "    80% {\n",
              "      border-color: transparent;\n",
              "      border-right-color: var(--fill-color);\n",
              "      border-bottom-color: var(--fill-color);\n",
              "    }\n",
              "    90% {\n",
              "      border-color: transparent;\n",
              "      border-bottom-color: var(--fill-color);\n",
              "    }\n",
              "  }\n",
              "</style>\n",
              "\n",
              "  <script>\n",
              "    async function quickchart(key) {\n",
              "      const quickchartButtonEl =\n",
              "        document.querySelector('#' + key + ' button');\n",
              "      quickchartButtonEl.disabled = true;  // To prevent multiple clicks.\n",
              "      quickchartButtonEl.classList.add('colab-df-spinner');\n",
              "      try {\n",
              "        const charts = await google.colab.kernel.invokeFunction(\n",
              "            'suggestCharts', [key], {});\n",
              "      } catch (error) {\n",
              "        console.error('Error during call to suggestCharts:', error);\n",
              "      }\n",
              "      quickchartButtonEl.classList.remove('colab-df-spinner');\n",
              "      quickchartButtonEl.classList.add('colab-df-quickchart-complete');\n",
              "    }\n",
              "    (() => {\n",
              "      let quickchartButtonEl =\n",
              "        document.querySelector('#df-32adcd11-0c5d-43a2-a2e1-a91952998e9f button');\n",
              "      quickchartButtonEl.style.display =\n",
              "        google.colab.kernel.accessAllowed ? 'block' : 'none';\n",
              "    })();\n",
              "  </script>\n",
              "</div>\n",
              "\n",
              "    </div>\n",
              "  </div>\n"
            ],
            "application/vnd.google.colaboratory.intrinsic+json": {
              "type": "dataframe",
              "variable_name": "data"
            }
          },
          "metadata": {},
          "execution_count": 3
        }
      ]
    },
    {
      "cell_type": "markdown",
      "source": [
        "##**3. Análisis exploratorio de datos (EDA)**\n",
        "\n"
      ],
      "metadata": {
        "id": "PSCwsc_vsVMb"
      }
    },
    {
      "cell_type": "markdown",
      "source": [
        "Este paso ayuda a comprender la estructura del dataset, la cantidad de valores nulos y cómo están distribuidas las clases en la variable objetivo **(Accident Severity)**."
      ],
      "metadata": {
        "id": "czgdMf0-V8gi"
      }
    },
    {
      "cell_type": "code",
      "source": [
        "# Información general del dataset\n",
        "print(\"Información del dataset:\")\n",
        "print(data.info())"
      ],
      "metadata": {
        "colab": {
          "base_uri": "https://localhost:8080/"
        },
        "id": "y5VTnUwWWMbX",
        "outputId": "c56e6121-abf2-40a1-cf1a-8291901e914c"
      },
      "execution_count": 4,
      "outputs": [
        {
          "output_type": "stream",
          "name": "stdout",
          "text": [
            "Información del dataset:\n",
            "<class 'pandas.core.frame.DataFrame'>\n",
            "Index: 119964 entries, 1 to 122977\n",
            "Data columns (total 17 columns):\n",
            " #   Column                   Non-Null Count   Dtype \n",
            "---  ------                   --------------   ----- \n",
            " 0   Accident Date            119964 non-null  object\n",
            " 1   Day of Week              119964 non-null  object\n",
            " 2   Accident Severity        119964 non-null  object\n",
            " 3   Latitude                 119964 non-null  object\n",
            " 4   Longitude                119964 non-null  object\n",
            " 5   Light Conditions         119964 non-null  object\n",
            " 6   District                 119964 non-null  object\n",
            " 7   Number of Casualties     119964 non-null  int64 \n",
            " 8   Number of Vehicles       119964 non-null  int64 \n",
            " 9   Police Force             119964 non-null  object\n",
            " 10  Road Surface Conditions  119964 non-null  object\n",
            " 11  Road Type                119964 non-null  object\n",
            " 12  Speed limit              119964 non-null  int64 \n",
            " 13  Time                     119964 non-null  object\n",
            " 14  Area                     119964 non-null  object\n",
            " 15  Weather Conditions       119964 non-null  object\n",
            " 16  Vehicle Type             119964 non-null  object\n",
            "dtypes: int64(3), object(14)\n",
            "memory usage: 16.5+ MB\n",
            "None\n"
          ]
        }
      ]
    },
    {
      "cell_type": "code",
      "source": [
        "# Estadísticas descriptivas\n",
        "print(\"\\nEstadísticas descriptivas:\")\n",
        "print(data.describe())"
      ],
      "metadata": {
        "colab": {
          "base_uri": "https://localhost:8080/"
        },
        "id": "MKrCTRyNMsfX",
        "outputId": "be5349e3-a1f8-4fb5-f314-ed9ea480efb4"
      },
      "execution_count": 5,
      "outputs": [
        {
          "output_type": "stream",
          "name": "stdout",
          "text": [
            "\n",
            "Estadísticas descriptivas:\n",
            "       Number of Casualties  Number of Vehicles    Speed limit\n",
            "count         119964.000000       119964.000000  119964.000000\n",
            "mean               1.353173            1.828832      38.922343\n",
            "std                0.798187            0.708554      14.056950\n",
            "min                1.000000            1.000000      15.000000\n",
            "25%                1.000000            1.000000      30.000000\n",
            "50%                1.000000            2.000000      30.000000\n",
            "75%                1.000000            2.000000      50.000000\n",
            "max               26.000000           14.000000      70.000000\n"
          ]
        }
      ]
    },
    {
      "cell_type": "code",
      "source": [
        "# Verificar valores nulos\n",
        "print(\"\\nValores nulos por columna:\")\n",
        "print(data.isnull().sum())"
      ],
      "metadata": {
        "colab": {
          "base_uri": "https://localhost:8080/"
        },
        "id": "sjd1cEouMwgi",
        "outputId": "e0679968-e00d-4ca8-a0d5-8f81a1ccf986"
      },
      "execution_count": 6,
      "outputs": [
        {
          "output_type": "stream",
          "name": "stdout",
          "text": [
            "\n",
            "Valores nulos por columna:\n",
            "Accident Date              0\n",
            "Day of Week                0\n",
            "Accident Severity          0\n",
            "Latitude                   0\n",
            "Longitude                  0\n",
            "Light Conditions           0\n",
            "District                   0\n",
            "Number of Casualties       0\n",
            "Number of Vehicles         0\n",
            "Police Force               0\n",
            "Road Surface Conditions    0\n",
            "Road Type                  0\n",
            "Speed limit                0\n",
            "Time                       0\n",
            "Area                       0\n",
            "Weather Conditions         0\n",
            "Vehicle Type               0\n",
            "dtype: int64\n"
          ]
        }
      ]
    },
    {
      "cell_type": "markdown",
      "source": [
        "Se puede observar que no posee valores nulos"
      ],
      "metadata": {
        "id": "6oMVUIAGXD4J"
      }
    },
    {
      "cell_type": "code",
      "source": [
        "# Distribución de la variable objetivo (Accident Severity)\n",
        "print(\"\\nDistribución de la variable objetivo:\")\n",
        "print(data['Accident Severity'].value_counts())"
      ],
      "metadata": {
        "colab": {
          "base_uri": "https://localhost:8080/"
        },
        "id": "7yLnPyCwMx3C",
        "outputId": "0f622beb-52e3-4560-ab0d-1f4a27e19924"
      },
      "execution_count": 7,
      "outputs": [
        {
          "output_type": "stream",
          "name": "stdout",
          "text": [
            "\n",
            "Distribución de la variable objetivo:\n",
            "Accident Severity\n",
            "Slight     102552\n",
            "Serious     15842\n",
            "Fatal        1570\n",
            "Name: count, dtype: int64\n"
          ]
        }
      ]
    },
    {
      "cell_type": "code",
      "source": [
        "data.shape"
      ],
      "metadata": {
        "colab": {
          "base_uri": "https://localhost:8080/"
        },
        "id": "Hr6Ohfj1Vkn4",
        "outputId": "40313859-5c59-4ec5-f110-40a4a71c0a29"
      },
      "execution_count": 8,
      "outputs": [
        {
          "output_type": "execute_result",
          "data": {
            "text/plain": [
              "(119964, 17)"
            ]
          },
          "metadata": {},
          "execution_count": 8
        }
      ]
    },
    {
      "cell_type": "code",
      "source": [
        "data.columns = data.columns.str.strip()\n",
        "data.columns"
      ],
      "metadata": {
        "colab": {
          "base_uri": "https://localhost:8080/"
        },
        "id": "IcfJK70UWSN9",
        "outputId": "4d297df9-28c0-4859-afd0-445b5825920d"
      },
      "execution_count": 9,
      "outputs": [
        {
          "output_type": "execute_result",
          "data": {
            "text/plain": [
              "Index(['Accident Date', 'Day of Week', 'Accident Severity', 'Latitude',\n",
              "       'Longitude', 'Light Conditions', 'District', 'Number of Casualties',\n",
              "       'Number of Vehicles', 'Police Force', 'Road Surface Conditions',\n",
              "       'Road Type', 'Speed limit', 'Time', 'Area', 'Weather Conditions',\n",
              "       'Vehicle Type'],\n",
              "      dtype='object')"
            ]
          },
          "metadata": {},
          "execution_count": 9
        }
      ]
    },
    {
      "cell_type": "markdown",
      "source": [
        "##**4. Descripción de las columnas**\n",
        "\n",
        "\n",
        "1.   **Index:** Identificador único para cada registro de accidente, usado para referencia y organización de los datos.\n",
        "\n",
        "2.   **Accident Date:** Fecha exacta en la que ocurrió el accidente, útil para analizar patrones temporales como tendencias diarias, semanales o estacionales.\n",
        "\n",
        "3.   **Day of Week:** Día de la semana en el que ocurrió el accidente, permite identificar si ciertos días tienen mayor incidencia de accidentes.\n",
        "\n",
        "4.   **Accident Severity:** Nivel de gravedad del accidente con los siguientes valores:\n",
        "\n",
        "  *   **Slight:** Lesiones menores.\n",
        "  *   **Serious:** Lesiones graves que requieren atención médica significativa.\n",
        "  *   **Fatal:** Accidentes con al menos una víctima mortal.\n",
        "\n",
        "5.   **Latitude y Longitude:** Coordenadas geográficas del lugar del accidente, útiles para identificar puntos críticos (hotspots) en mapas.\n",
        "\n",
        "6.   **Light Conditions:** Condiciones de iluminación en el momento del accidente, con los siguientes valores:\n",
        "\n",
        "  *   **Daylight:** Luz del día.\n",
        "  *   **Darkness - lights lit:** Oscuridad con luces encendidas.\n",
        "  *   **Darkness - no lighting:** Oscuridad sin iluminación.\n",
        "  *   **Darkness - lights unlit:** Oscuridad con luces apagadas.\n",
        "  *   **Darkness - lighting unknown:** Oscuridad con iluminación desconocida.\n",
        "\n",
        "7.   **District:** Distrito donde ocurrió el accidente, proporciona información sobre la ubicación administrativa.\n",
        "\n",
        "8.   **Number of Casualties:** Número total de víctimas (lesionadas o fallecidas) en el accidente.\n",
        "\n",
        "9.   **Number of Vehicles:** Número de vehículos involucrados en el accidente.\n",
        "\n",
        "10.   **Police Force:**  Identificación de la unidad policial responsable del área donde ocurrió el accidente.\n",
        "\n",
        "11.   **Road Surface Conditions:** Condición de la superficie de la carretera, con los siguientes valores:\n",
        "\n",
        "  *   **Dry:** Seco.\n",
        "  *   **Wet or damp:** Mojado o húmedo.\n",
        "  *   **Frost or ice:** Congelado o con hielo.\n",
        "  *   **Snow:** Nieve.\n",
        "  *   **Flood over 3cm. deep:** Inundación mayor a 3 cm de profundidad.\n",
        "\n",
        "12.   **Road Type:** Tipo de carretera donde ocurrió el accidente, con los siguientes valores:\n",
        "\n",
        "  *   **One way street:** Calle de un solo sentido.\n",
        "  *   **Single carriageway:** Carretera de un solo carril.\n",
        "  *   **Dual carriageway:** Carretera de doble carril.\n",
        "  *   **Roundabout:** Rotonda.\n",
        "  *   **Slip road:** Rampa de incorporación o salida.\n",
        "\n",
        "13.   **Speed Limit:**  Límite de velocidad permitido en la zona del accidente.\n",
        "\n",
        "14.   **Time:** Hora del día en la que ocurrió el accidente, importante para analizar patrones horarios.\n",
        "\n",
        "15.   **Area:** Clasificación del área donde ocurrió el accidente:\n",
        "\n",
        "  *   **Urban:** Zona urbana.\n",
        "  *   **Rural:** Zona rural.\n",
        "\n",
        "16.   **Weather Conditions:** Condiciones climáticas en el momento del accidente, con los siguientes valores:\n",
        "\n",
        "  *   **Fine no high winds:** Clima despejado, sin vientos fuertes.\n",
        "  *   **Raining no high winds:** Lluvia sin vientos fuertes.\n",
        "  *   **Fog or mist:** Niebla o neblina.\n",
        "  *   **Raining + high winds:** Lluvia con vientos fuertes.\n",
        "  *   **Fine + high winds:** Clima despejado con vientos fuertes.\n",
        "  *   **Snowing no high winds:** Nevando sin vientos fuertes.\n",
        "  *   **Snowing + high winds:** Nevando con vientos fuertes.\n",
        "  *   **Other:** Otras condiciones climáticas.\n",
        "\n",
        "17.   **Vehicle Type:** Tipo de vehículo involucrado, con los siguientes valores:\n",
        "\n",
        "  *   **Car:** Automóvil.\n",
        "  *   **Motorcycle:** Motocicleta.\n",
        "  *   **Bus:** Autobús.\n",
        "  *   **Heavy Truck:** Camión pesado.\n",
        "  *   **Minibus:** Minibús.\n",
        "  *   **Taxi:** Taxi.\n",
        "  *   **Other vehicle:** Otro tipo de vehículo.\n",
        "  *   **Agricultural vehicle:** Vehículo agrícola.\n",
        "  *   **Pedal cycle:** Bicicleta.\n",
        "  *   **Ridden horse:** Caballo montado.\n"
      ],
      "metadata": {
        "id": "5he1oRfTaxaf"
      }
    },
    {
      "cell_type": "markdown",
      "source": [
        "## **5. Preprocesamiento de datos**"
      ],
      "metadata": {
        "id": "qgV72DbV59Nl"
      }
    },
    {
      "cell_type": "markdown",
      "source": [
        "Preparamos los datos para el entrenamiento de los modelos."
      ],
      "metadata": {
        "id": "gLGTqTryXmYU"
      }
    },
    {
      "cell_type": "markdown",
      "source": [
        "###**5.1. Codificación de variables categóricas**"
      ],
      "metadata": {
        "id": "sO5YrFoEXpqO"
      }
    },
    {
      "cell_type": "markdown",
      "source": [
        "Se eliminan las columnas que no aportan valor al modelo."
      ],
      "metadata": {
        "id": "y_Qxmv_VWvXp"
      }
    },
    {
      "cell_type": "code",
      "source": [
        "# Eliminar columnas irrelevantes\n",
        "data.drop(columns=['Accident Date', 'Index', 'Police Force','Latitude','Longitude','Time', 'District'], errors='ignore', inplace=True)"
      ],
      "metadata": {
        "id": "hK3dnCOlBcyb"
      },
      "execution_count": 10,
      "outputs": []
    },
    {
      "cell_type": "markdown",
      "source": [
        "Convertimos las variables categóricas en numéricas usando LabelEncoder."
      ],
      "metadata": {
        "id": "z60sA-2GXuiL"
      }
    },
    {
      "cell_type": "code",
      "source": [
        "# Codificar variables categóricas\n",
        "label_encoders = {}\n",
        "for column in data.select_dtypes(include=['object']).columns:\n",
        "    le = LabelEncoder()\n",
        "    data[column] = le.fit_transform(data[column])\n",
        "    label_encoders[column] = le\n",
        "\n",
        "# Mostrar las primeras filas después de la codificación\n",
        "print(data.head())"
      ],
      "metadata": {
        "id": "4iHU7CMmCG2C",
        "colab": {
          "base_uri": "https://localhost:8080/"
        },
        "outputId": "c6f8c1d5-2c1c-4b51-e08f-dab0be3579a8"
      },
      "execution_count": 11,
      "outputs": [
        {
          "output_type": "stream",
          "name": "stdout",
          "text": [
            "       Day of Week  Accident Severity  Light Conditions  Number of Casualties  \\\n",
            "Index                                                                           \n",
            "1                4                  1                 4                     1   \n",
            "2                4                  2                 4                     3   \n",
            "3                4                  1                 1                     1   \n",
            "4                4                  2                 4                     2   \n",
            "5                4                  1                 4                     1   \n",
            "\n",
            "       Number of Vehicles  Road Surface Conditions  Road Type  Speed limit  \\\n",
            "Index                                                                        \n",
            "1                       2                        0          1           30   \n",
            "2                       2                        0          3           30   \n",
            "3                       2                        0          3           30   \n",
            "4                       2                        4          3           30   \n",
            "5                       1                        0          0           30   \n",
            "\n",
            "       Area  Weather Conditions  Vehicle Type  \n",
            "Index                                          \n",
            "1         1                   1             2  \n",
            "2         1                   1             2  \n",
            "3         1                   1             5  \n",
            "4         1                   5             2  \n",
            "5         1                   1             2  \n"
          ]
        }
      ]
    },
    {
      "cell_type": "markdown",
      "source": [
        "###**5.2. Separación de características (X) y variable objetivo (y)**"
      ],
      "metadata": {
        "id": "NMJlz_2oYeSy"
      }
    },
    {
      "cell_type": "code",
      "source": [
        "# Separar características (X) y variable objetivo (y)\n",
        "X = data.drop(columns=['Accident Severity'])\n",
        "y = data['Accident Severity']"
      ],
      "metadata": {
        "id": "wIsLl12dPisB"
      },
      "execution_count": 12,
      "outputs": []
    },
    {
      "cell_type": "markdown",
      "source": [
        "**X:**  Contiene las características predictoras.\n",
        "  *   Day of Week\n",
        "  *   Light Conditions\n",
        "  *   Number of Casualties\n",
        "  *   Number of Vehicles\n",
        "  *   Road Surface Conditions\n",
        "  *   Road Type\n",
        "  *   Speed Limit\n",
        "  *   Area\n",
        "  *   Weather Conditions\n",
        "  *   Vehicle Type\n",
        "\n",
        "**y:** Contiene la variable objetivo **(Accident Severity)**."
      ],
      "metadata": {
        "id": "349lU2kVXBDc"
      }
    },
    {
      "cell_type": "markdown",
      "source": [
        "###**5.3. Normalización de características**"
      ],
      "metadata": {
        "id": "6XIHNC1eYsS7"
      }
    },
    {
      "cell_type": "markdown",
      "source": [
        "Se normalizan los datos usando StandardScaler para mejorar el rendimiento del modelo."
      ],
      "metadata": {
        "id": "yq0MGp7UYx-a"
      }
    },
    {
      "cell_type": "code",
      "source": [
        "# Normalización de características\n",
        "scaler = StandardScaler()\n",
        "X = scaler.fit_transform(X)"
      ],
      "metadata": {
        "id": "Oce5WMtuQcMd"
      },
      "execution_count": 13,
      "outputs": []
    },
    {
      "cell_type": "markdown",
      "source": [
        "##**6. División del dataset**"
      ],
      "metadata": {
        "id": "hz8vU7qNZIbT"
      }
    },
    {
      "cell_type": "markdown",
      "source": [
        "Se dividen los datos en 80% para entrenamiento y 20% para prueba."
      ],
      "metadata": {
        "id": "m4tORKpKZS9g"
      }
    },
    {
      "cell_type": "code",
      "source": [
        "# Dividir el dataset en entrenamiento y prueba\n",
        "X_train, X_test, y_train, y_test = train_test_split(X, y, test_size=0.2, random_state=42)"
      ],
      "metadata": {
        "id": "-WQKo_oIQaYr"
      },
      "execution_count": 14,
      "outputs": []
    },
    {
      "cell_type": "markdown",
      "source": [
        "##**7. Entrenamiento y evaluación de modelos**"
      ],
      "metadata": {
        "id": "LMmixEX1ZgBM"
      }
    },
    {
      "cell_type": "markdown",
      "source": [
        "Ahora entrenaremos y evaluaremos tres modelos de clasificación: **Árbol de Decisión, KNN y Random Forest**, con el objetivo de identificar cuál ofrece el mejor desempeño en la clasificación de la severidad de los accidentes de tránsito."
      ],
      "metadata": {
        "id": "24UWuHygZkuh"
      }
    },
    {
      "cell_type": "markdown",
      "source": [
        "###**7.1. Árbol de Decisión**\n",
        "\n"
      ],
      "metadata": {
        "id": "OtkPJEpCZn3Y"
      }
    },
    {
      "cell_type": "markdown",
      "source": [
        "A continuación creamos un modelo de Árbol de Decisión y lo entrenamos con los datos de entrenamiento."
      ],
      "metadata": {
        "id": "hUUdxxwaZM_F"
      }
    },
    {
      "cell_type": "code",
      "source": [
        "# Entrenar el modelo\n",
        "tree_model = DecisionTreeClassifier(random_state=42)\n",
        "tree_model.fit(X_train, y_train)\n"
      ],
      "metadata": {
        "colab": {
          "base_uri": "https://localhost:8080/",
          "height": 80
        },
        "id": "RpNzJJX-Z49y",
        "outputId": "5c4e0909-4820-49cc-dcea-4f53d58258e5"
      },
      "execution_count": 15,
      "outputs": [
        {
          "output_type": "execute_result",
          "data": {
            "text/plain": [
              "DecisionTreeClassifier(random_state=42)"
            ],
            "text/html": [
              "<style>#sk-container-id-1 {\n",
              "  /* Definition of color scheme common for light and dark mode */\n",
              "  --sklearn-color-text: #000;\n",
              "  --sklearn-color-text-muted: #666;\n",
              "  --sklearn-color-line: gray;\n",
              "  /* Definition of color scheme for unfitted estimators */\n",
              "  --sklearn-color-unfitted-level-0: #fff5e6;\n",
              "  --sklearn-color-unfitted-level-1: #f6e4d2;\n",
              "  --sklearn-color-unfitted-level-2: #ffe0b3;\n",
              "  --sklearn-color-unfitted-level-3: chocolate;\n",
              "  /* Definition of color scheme for fitted estimators */\n",
              "  --sklearn-color-fitted-level-0: #f0f8ff;\n",
              "  --sklearn-color-fitted-level-1: #d4ebff;\n",
              "  --sklearn-color-fitted-level-2: #b3dbfd;\n",
              "  --sklearn-color-fitted-level-3: cornflowerblue;\n",
              "\n",
              "  /* Specific color for light theme */\n",
              "  --sklearn-color-text-on-default-background: var(--sg-text-color, var(--theme-code-foreground, var(--jp-content-font-color1, black)));\n",
              "  --sklearn-color-background: var(--sg-background-color, var(--theme-background, var(--jp-layout-color0, white)));\n",
              "  --sklearn-color-border-box: var(--sg-text-color, var(--theme-code-foreground, var(--jp-content-font-color1, black)));\n",
              "  --sklearn-color-icon: #696969;\n",
              "\n",
              "  @media (prefers-color-scheme: dark) {\n",
              "    /* Redefinition of color scheme for dark theme */\n",
              "    --sklearn-color-text-on-default-background: var(--sg-text-color, var(--theme-code-foreground, var(--jp-content-font-color1, white)));\n",
              "    --sklearn-color-background: var(--sg-background-color, var(--theme-background, var(--jp-layout-color0, #111)));\n",
              "    --sklearn-color-border-box: var(--sg-text-color, var(--theme-code-foreground, var(--jp-content-font-color1, white)));\n",
              "    --sklearn-color-icon: #878787;\n",
              "  }\n",
              "}\n",
              "\n",
              "#sk-container-id-1 {\n",
              "  color: var(--sklearn-color-text);\n",
              "}\n",
              "\n",
              "#sk-container-id-1 pre {\n",
              "  padding: 0;\n",
              "}\n",
              "\n",
              "#sk-container-id-1 input.sk-hidden--visually {\n",
              "  border: 0;\n",
              "  clip: rect(1px 1px 1px 1px);\n",
              "  clip: rect(1px, 1px, 1px, 1px);\n",
              "  height: 1px;\n",
              "  margin: -1px;\n",
              "  overflow: hidden;\n",
              "  padding: 0;\n",
              "  position: absolute;\n",
              "  width: 1px;\n",
              "}\n",
              "\n",
              "#sk-container-id-1 div.sk-dashed-wrapped {\n",
              "  border: 1px dashed var(--sklearn-color-line);\n",
              "  margin: 0 0.4em 0.5em 0.4em;\n",
              "  box-sizing: border-box;\n",
              "  padding-bottom: 0.4em;\n",
              "  background-color: var(--sklearn-color-background);\n",
              "}\n",
              "\n",
              "#sk-container-id-1 div.sk-container {\n",
              "  /* jupyter's `normalize.less` sets `[hidden] { display: none; }`\n",
              "     but bootstrap.min.css set `[hidden] { display: none !important; }`\n",
              "     so we also need the `!important` here to be able to override the\n",
              "     default hidden behavior on the sphinx rendered scikit-learn.org.\n",
              "     See: https://github.com/scikit-learn/scikit-learn/issues/21755 */\n",
              "  display: inline-block !important;\n",
              "  position: relative;\n",
              "}\n",
              "\n",
              "#sk-container-id-1 div.sk-text-repr-fallback {\n",
              "  display: none;\n",
              "}\n",
              "\n",
              "div.sk-parallel-item,\n",
              "div.sk-serial,\n",
              "div.sk-item {\n",
              "  /* draw centered vertical line to link estimators */\n",
              "  background-image: linear-gradient(var(--sklearn-color-text-on-default-background), var(--sklearn-color-text-on-default-background));\n",
              "  background-size: 2px 100%;\n",
              "  background-repeat: no-repeat;\n",
              "  background-position: center center;\n",
              "}\n",
              "\n",
              "/* Parallel-specific style estimator block */\n",
              "\n",
              "#sk-container-id-1 div.sk-parallel-item::after {\n",
              "  content: \"\";\n",
              "  width: 100%;\n",
              "  border-bottom: 2px solid var(--sklearn-color-text-on-default-background);\n",
              "  flex-grow: 1;\n",
              "}\n",
              "\n",
              "#sk-container-id-1 div.sk-parallel {\n",
              "  display: flex;\n",
              "  align-items: stretch;\n",
              "  justify-content: center;\n",
              "  background-color: var(--sklearn-color-background);\n",
              "  position: relative;\n",
              "}\n",
              "\n",
              "#sk-container-id-1 div.sk-parallel-item {\n",
              "  display: flex;\n",
              "  flex-direction: column;\n",
              "}\n",
              "\n",
              "#sk-container-id-1 div.sk-parallel-item:first-child::after {\n",
              "  align-self: flex-end;\n",
              "  width: 50%;\n",
              "}\n",
              "\n",
              "#sk-container-id-1 div.sk-parallel-item:last-child::after {\n",
              "  align-self: flex-start;\n",
              "  width: 50%;\n",
              "}\n",
              "\n",
              "#sk-container-id-1 div.sk-parallel-item:only-child::after {\n",
              "  width: 0;\n",
              "}\n",
              "\n",
              "/* Serial-specific style estimator block */\n",
              "\n",
              "#sk-container-id-1 div.sk-serial {\n",
              "  display: flex;\n",
              "  flex-direction: column;\n",
              "  align-items: center;\n",
              "  background-color: var(--sklearn-color-background);\n",
              "  padding-right: 1em;\n",
              "  padding-left: 1em;\n",
              "}\n",
              "\n",
              "\n",
              "/* Toggleable style: style used for estimator/Pipeline/ColumnTransformer box that is\n",
              "clickable and can be expanded/collapsed.\n",
              "- Pipeline and ColumnTransformer use this feature and define the default style\n",
              "- Estimators will overwrite some part of the style using the `sk-estimator` class\n",
              "*/\n",
              "\n",
              "/* Pipeline and ColumnTransformer style (default) */\n",
              "\n",
              "#sk-container-id-1 div.sk-toggleable {\n",
              "  /* Default theme specific background. It is overwritten whether we have a\n",
              "  specific estimator or a Pipeline/ColumnTransformer */\n",
              "  background-color: var(--sklearn-color-background);\n",
              "}\n",
              "\n",
              "/* Toggleable label */\n",
              "#sk-container-id-1 label.sk-toggleable__label {\n",
              "  cursor: pointer;\n",
              "  display: flex;\n",
              "  width: 100%;\n",
              "  margin-bottom: 0;\n",
              "  padding: 0.5em;\n",
              "  box-sizing: border-box;\n",
              "  text-align: center;\n",
              "  align-items: start;\n",
              "  justify-content: space-between;\n",
              "  gap: 0.5em;\n",
              "}\n",
              "\n",
              "#sk-container-id-1 label.sk-toggleable__label .caption {\n",
              "  font-size: 0.6rem;\n",
              "  font-weight: lighter;\n",
              "  color: var(--sklearn-color-text-muted);\n",
              "}\n",
              "\n",
              "#sk-container-id-1 label.sk-toggleable__label-arrow:before {\n",
              "  /* Arrow on the left of the label */\n",
              "  content: \"▸\";\n",
              "  float: left;\n",
              "  margin-right: 0.25em;\n",
              "  color: var(--sklearn-color-icon);\n",
              "}\n",
              "\n",
              "#sk-container-id-1 label.sk-toggleable__label-arrow:hover:before {\n",
              "  color: var(--sklearn-color-text);\n",
              "}\n",
              "\n",
              "/* Toggleable content - dropdown */\n",
              "\n",
              "#sk-container-id-1 div.sk-toggleable__content {\n",
              "  max-height: 0;\n",
              "  max-width: 0;\n",
              "  overflow: hidden;\n",
              "  text-align: left;\n",
              "  /* unfitted */\n",
              "  background-color: var(--sklearn-color-unfitted-level-0);\n",
              "}\n",
              "\n",
              "#sk-container-id-1 div.sk-toggleable__content.fitted {\n",
              "  /* fitted */\n",
              "  background-color: var(--sklearn-color-fitted-level-0);\n",
              "}\n",
              "\n",
              "#sk-container-id-1 div.sk-toggleable__content pre {\n",
              "  margin: 0.2em;\n",
              "  border-radius: 0.25em;\n",
              "  color: var(--sklearn-color-text);\n",
              "  /* unfitted */\n",
              "  background-color: var(--sklearn-color-unfitted-level-0);\n",
              "}\n",
              "\n",
              "#sk-container-id-1 div.sk-toggleable__content.fitted pre {\n",
              "  /* unfitted */\n",
              "  background-color: var(--sklearn-color-fitted-level-0);\n",
              "}\n",
              "\n",
              "#sk-container-id-1 input.sk-toggleable__control:checked~div.sk-toggleable__content {\n",
              "  /* Expand drop-down */\n",
              "  max-height: 200px;\n",
              "  max-width: 100%;\n",
              "  overflow: auto;\n",
              "}\n",
              "\n",
              "#sk-container-id-1 input.sk-toggleable__control:checked~label.sk-toggleable__label-arrow:before {\n",
              "  content: \"▾\";\n",
              "}\n",
              "\n",
              "/* Pipeline/ColumnTransformer-specific style */\n",
              "\n",
              "#sk-container-id-1 div.sk-label input.sk-toggleable__control:checked~label.sk-toggleable__label {\n",
              "  color: var(--sklearn-color-text);\n",
              "  background-color: var(--sklearn-color-unfitted-level-2);\n",
              "}\n",
              "\n",
              "#sk-container-id-1 div.sk-label.fitted input.sk-toggleable__control:checked~label.sk-toggleable__label {\n",
              "  background-color: var(--sklearn-color-fitted-level-2);\n",
              "}\n",
              "\n",
              "/* Estimator-specific style */\n",
              "\n",
              "/* Colorize estimator box */\n",
              "#sk-container-id-1 div.sk-estimator input.sk-toggleable__control:checked~label.sk-toggleable__label {\n",
              "  /* unfitted */\n",
              "  background-color: var(--sklearn-color-unfitted-level-2);\n",
              "}\n",
              "\n",
              "#sk-container-id-1 div.sk-estimator.fitted input.sk-toggleable__control:checked~label.sk-toggleable__label {\n",
              "  /* fitted */\n",
              "  background-color: var(--sklearn-color-fitted-level-2);\n",
              "}\n",
              "\n",
              "#sk-container-id-1 div.sk-label label.sk-toggleable__label,\n",
              "#sk-container-id-1 div.sk-label label {\n",
              "  /* The background is the default theme color */\n",
              "  color: var(--sklearn-color-text-on-default-background);\n",
              "}\n",
              "\n",
              "/* On hover, darken the color of the background */\n",
              "#sk-container-id-1 div.sk-label:hover label.sk-toggleable__label {\n",
              "  color: var(--sklearn-color-text);\n",
              "  background-color: var(--sklearn-color-unfitted-level-2);\n",
              "}\n",
              "\n",
              "/* Label box, darken color on hover, fitted */\n",
              "#sk-container-id-1 div.sk-label.fitted:hover label.sk-toggleable__label.fitted {\n",
              "  color: var(--sklearn-color-text);\n",
              "  background-color: var(--sklearn-color-fitted-level-2);\n",
              "}\n",
              "\n",
              "/* Estimator label */\n",
              "\n",
              "#sk-container-id-1 div.sk-label label {\n",
              "  font-family: monospace;\n",
              "  font-weight: bold;\n",
              "  display: inline-block;\n",
              "  line-height: 1.2em;\n",
              "}\n",
              "\n",
              "#sk-container-id-1 div.sk-label-container {\n",
              "  text-align: center;\n",
              "}\n",
              "\n",
              "/* Estimator-specific */\n",
              "#sk-container-id-1 div.sk-estimator {\n",
              "  font-family: monospace;\n",
              "  border: 1px dotted var(--sklearn-color-border-box);\n",
              "  border-radius: 0.25em;\n",
              "  box-sizing: border-box;\n",
              "  margin-bottom: 0.5em;\n",
              "  /* unfitted */\n",
              "  background-color: var(--sklearn-color-unfitted-level-0);\n",
              "}\n",
              "\n",
              "#sk-container-id-1 div.sk-estimator.fitted {\n",
              "  /* fitted */\n",
              "  background-color: var(--sklearn-color-fitted-level-0);\n",
              "}\n",
              "\n",
              "/* on hover */\n",
              "#sk-container-id-1 div.sk-estimator:hover {\n",
              "  /* unfitted */\n",
              "  background-color: var(--sklearn-color-unfitted-level-2);\n",
              "}\n",
              "\n",
              "#sk-container-id-1 div.sk-estimator.fitted:hover {\n",
              "  /* fitted */\n",
              "  background-color: var(--sklearn-color-fitted-level-2);\n",
              "}\n",
              "\n",
              "/* Specification for estimator info (e.g. \"i\" and \"?\") */\n",
              "\n",
              "/* Common style for \"i\" and \"?\" */\n",
              "\n",
              ".sk-estimator-doc-link,\n",
              "a:link.sk-estimator-doc-link,\n",
              "a:visited.sk-estimator-doc-link {\n",
              "  float: right;\n",
              "  font-size: smaller;\n",
              "  line-height: 1em;\n",
              "  font-family: monospace;\n",
              "  background-color: var(--sklearn-color-background);\n",
              "  border-radius: 1em;\n",
              "  height: 1em;\n",
              "  width: 1em;\n",
              "  text-decoration: none !important;\n",
              "  margin-left: 0.5em;\n",
              "  text-align: center;\n",
              "  /* unfitted */\n",
              "  border: var(--sklearn-color-unfitted-level-1) 1pt solid;\n",
              "  color: var(--sklearn-color-unfitted-level-1);\n",
              "}\n",
              "\n",
              ".sk-estimator-doc-link.fitted,\n",
              "a:link.sk-estimator-doc-link.fitted,\n",
              "a:visited.sk-estimator-doc-link.fitted {\n",
              "  /* fitted */\n",
              "  border: var(--sklearn-color-fitted-level-1) 1pt solid;\n",
              "  color: var(--sklearn-color-fitted-level-1);\n",
              "}\n",
              "\n",
              "/* On hover */\n",
              "div.sk-estimator:hover .sk-estimator-doc-link:hover,\n",
              ".sk-estimator-doc-link:hover,\n",
              "div.sk-label-container:hover .sk-estimator-doc-link:hover,\n",
              ".sk-estimator-doc-link:hover {\n",
              "  /* unfitted */\n",
              "  background-color: var(--sklearn-color-unfitted-level-3);\n",
              "  color: var(--sklearn-color-background);\n",
              "  text-decoration: none;\n",
              "}\n",
              "\n",
              "div.sk-estimator.fitted:hover .sk-estimator-doc-link.fitted:hover,\n",
              ".sk-estimator-doc-link.fitted:hover,\n",
              "div.sk-label-container:hover .sk-estimator-doc-link.fitted:hover,\n",
              ".sk-estimator-doc-link.fitted:hover {\n",
              "  /* fitted */\n",
              "  background-color: var(--sklearn-color-fitted-level-3);\n",
              "  color: var(--sklearn-color-background);\n",
              "  text-decoration: none;\n",
              "}\n",
              "\n",
              "/* Span, style for the box shown on hovering the info icon */\n",
              ".sk-estimator-doc-link span {\n",
              "  display: none;\n",
              "  z-index: 9999;\n",
              "  position: relative;\n",
              "  font-weight: normal;\n",
              "  right: .2ex;\n",
              "  padding: .5ex;\n",
              "  margin: .5ex;\n",
              "  width: min-content;\n",
              "  min-width: 20ex;\n",
              "  max-width: 50ex;\n",
              "  color: var(--sklearn-color-text);\n",
              "  box-shadow: 2pt 2pt 4pt #999;\n",
              "  /* unfitted */\n",
              "  background: var(--sklearn-color-unfitted-level-0);\n",
              "  border: .5pt solid var(--sklearn-color-unfitted-level-3);\n",
              "}\n",
              "\n",
              ".sk-estimator-doc-link.fitted span {\n",
              "  /* fitted */\n",
              "  background: var(--sklearn-color-fitted-level-0);\n",
              "  border: var(--sklearn-color-fitted-level-3);\n",
              "}\n",
              "\n",
              ".sk-estimator-doc-link:hover span {\n",
              "  display: block;\n",
              "}\n",
              "\n",
              "/* \"?\"-specific style due to the `<a>` HTML tag */\n",
              "\n",
              "#sk-container-id-1 a.estimator_doc_link {\n",
              "  float: right;\n",
              "  font-size: 1rem;\n",
              "  line-height: 1em;\n",
              "  font-family: monospace;\n",
              "  background-color: var(--sklearn-color-background);\n",
              "  border-radius: 1rem;\n",
              "  height: 1rem;\n",
              "  width: 1rem;\n",
              "  text-decoration: none;\n",
              "  /* unfitted */\n",
              "  color: var(--sklearn-color-unfitted-level-1);\n",
              "  border: var(--sklearn-color-unfitted-level-1) 1pt solid;\n",
              "}\n",
              "\n",
              "#sk-container-id-1 a.estimator_doc_link.fitted {\n",
              "  /* fitted */\n",
              "  border: var(--sklearn-color-fitted-level-1) 1pt solid;\n",
              "  color: var(--sklearn-color-fitted-level-1);\n",
              "}\n",
              "\n",
              "/* On hover */\n",
              "#sk-container-id-1 a.estimator_doc_link:hover {\n",
              "  /* unfitted */\n",
              "  background-color: var(--sklearn-color-unfitted-level-3);\n",
              "  color: var(--sklearn-color-background);\n",
              "  text-decoration: none;\n",
              "}\n",
              "\n",
              "#sk-container-id-1 a.estimator_doc_link.fitted:hover {\n",
              "  /* fitted */\n",
              "  background-color: var(--sklearn-color-fitted-level-3);\n",
              "}\n",
              "</style><div id=\"sk-container-id-1\" class=\"sk-top-container\"><div class=\"sk-text-repr-fallback\"><pre>DecisionTreeClassifier(random_state=42)</pre><b>In a Jupyter environment, please rerun this cell to show the HTML representation or trust the notebook. <br />On GitHub, the HTML representation is unable to render, please try loading this page with nbviewer.org.</b></div><div class=\"sk-container\" hidden><div class=\"sk-item\"><div class=\"sk-estimator fitted sk-toggleable\"><input class=\"sk-toggleable__control sk-hidden--visually\" id=\"sk-estimator-id-1\" type=\"checkbox\" checked><label for=\"sk-estimator-id-1\" class=\"sk-toggleable__label fitted sk-toggleable__label-arrow\"><div><div>DecisionTreeClassifier</div></div><div><a class=\"sk-estimator-doc-link fitted\" rel=\"noreferrer\" target=\"_blank\" href=\"https://scikit-learn.org/1.6/modules/generated/sklearn.tree.DecisionTreeClassifier.html\">?<span>Documentation for DecisionTreeClassifier</span></a><span class=\"sk-estimator-doc-link fitted\">i<span>Fitted</span></span></div></label><div class=\"sk-toggleable__content fitted\"><pre>DecisionTreeClassifier(random_state=42)</pre></div> </div></div></div></div>"
            ]
          },
          "metadata": {},
          "execution_count": 15
        }
      ]
    },
    {
      "cell_type": "markdown",
      "source": [
        "Realizamos predicciones en el conjunto de prueba y se calculan las métricas de rendimiento."
      ],
      "metadata": {
        "id": "HNZBK23XY3kv"
      }
    },
    {
      "cell_type": "code",
      "source": [
        "# Predecir en el conjunto de prueba\n",
        "y_pred_tree = tree_model.predict(X_test)"
      ],
      "metadata": {
        "id": "Bfqy_BQkY8d_"
      },
      "execution_count": 16,
      "outputs": []
    },
    {
      "cell_type": "code",
      "source": [
        "# Métricas de evaluación\n",
        "print(\"Árbol de Decisión:\")\n",
        "print(\"Accuracy:\", accuracy_score(y_test, y_pred_tree))\n",
        "print(\"Precision:\", precision_score(y_test, y_pred_tree, average='weighted'))\n",
        "print(\"Recall:\", recall_score(y_test, y_pred_tree, average='weighted'))\n",
        "print(\"F1-Score:\", f1_score(y_test, y_pred_tree, average='weighted'))"
      ],
      "metadata": {
        "colab": {
          "base_uri": "https://localhost:8080/"
        },
        "id": "jtAqicF0NkCr",
        "outputId": "aede5e52-3692-4df0-98b9-57328a73df7d"
      },
      "execution_count": 17,
      "outputs": [
        {
          "output_type": "stream",
          "name": "stdout",
          "text": [
            "Árbol de Decisión:\n",
            "Accuracy: 0.8178218647105405\n",
            "Precision: 0.7574116611232099\n",
            "Recall: 0.8178218647105405\n",
            "F1-Score: 0.7826519219327854\n"
          ]
        }
      ]
    },
    {
      "cell_type": "markdown",
      "source": [
        "Se genera la matriz de confusión para analizar el desempeño del modelo en cada categoría."
      ],
      "metadata": {
        "id": "KpFIUkiOZlyS"
      }
    },
    {
      "cell_type": "code",
      "source": [
        "# Matriz de confusión\n",
        "conf_matrix_tree = confusion_matrix(y_test, y_pred_tree)\n",
        "print(\"Matriz de confusión:\\n\", conf_matrix_tree)\n",
        "\n",
        "# Definir etiquetas de clases reales\n",
        "class_labels = [\"Slight\", \"Serious\", \"Fatal\"]\n",
        "\n",
        "# Crear el heatmap\n",
        "plt.figure(figsize=(8, 6))\n",
        "sns.heatmap(conf_matrix_tree , annot=True, fmt=\"d\", cmap=\"Blues\", xticklabels=class_labels, yticklabels=class_labels)\n",
        "\n",
        "# Personalizar el gráfico\n",
        "plt.xlabel(\"Predicción\")\n",
        "plt.ylabel(\"Clase Real\")\n",
        "plt.title(\"Matriz de Confusión - Árbol de Decisión con SMOTE\")\n",
        "plt.show()"
      ],
      "metadata": {
        "colab": {
          "base_uri": "https://localhost:8080/",
          "height": 633
        },
        "id": "MqYuWWqSNevq",
        "outputId": "11dce8d9-7a84-485e-e1b2-916ee270cbd1"
      },
      "execution_count": 18,
      "outputs": [
        {
          "output_type": "stream",
          "name": "stdout",
          "text": [
            "Matriz de confusión:\n",
            " [[    7    34   229]\n",
            " [   38   211  2964]\n",
            " [  116   990 19404]]\n"
          ]
        },
        {
          "output_type": "display_data",
          "data": {
            "text/plain": [
              "<Figure size 800x600 with 2 Axes>"
            ],
            "image/png": "[encoded data removed]"
          },
          "metadata": {}
        }
      ]
    },
    {
      "cell_type": "markdown",
      "source": [
        "####**Evaluación del Modelo de Árbol de Decisión**"
      ],
      "metadata": {
        "id": "pT4-1Ensa8qj"
      }
    },
    {
      "cell_type": "markdown",
      "source": [
        "Tras entrenar un modelo de Árbol de Decisión para predecir la gravedad de los accidentes de tráfico, se obtuvieron los siguientes resultados en el conjunto de prueba:\n",
        "\n",
        "\n",
        "\n",
        "*   **Precisión Global (Accuracy):** 81.78%\n",
        "*   **Precisión por Clase (Precision):** 75.74%\n",
        "*   **Cobertura (Recall):** 81.78%\n",
        "*   **F1-Score:** 78.26%\n",
        "\n",
        "Estos valores indican que el modelo tiene un buen desempeño general, logrando clasificar correctamente más del 80% de los casos. Sin embargo, la menor precisión sugiere que puede haber confusión entre ciertas clases, lo que podría reflejar un desbalance en los datos o la necesidad de optimizar los hiperparámetros del modelo."
      ],
      "metadata": {
        "id": "KrIt_O-wbIZ9"
      }
    },
    {
      "cell_type": "markdown",
      "source": [
        "Ahora, al interpretar la matriz de confisión, cada fila representa los valores reales y cada columna representa las predicciones del modelo. Es decir:\n",
        "\n",
        "**Fila 1:** Accidentes que en realidad fueron leves (Slight).\n",
        "  *   7 fueron correctamente clasificados como leves.\n",
        "  *   34 fueron mal clasificados como graves.\n",
        "  *   229 fueron mal clasificados como fatales.\n",
        "\n",
        "**Fila 2:** Accidentes que en realidad fueron graves (Serious).\n",
        "\n",
        "  *   38 fueron mal clasificados como leves.\n",
        "  *   211 fueron correctamente clasificados como graves.\n",
        "  *   2964 fueron mal clasificados como fatales.\n",
        "\n",
        "**Fila 3:** Accidentes que en realidad fueron fatales (Fatal).\n",
        "\n",
        "  *   116 fueron mal clasificados como leves.\n",
        "  *   990 fueron mal clasificados como graves.\n",
        "  *   19,404 fueron correctamente clasificados como fatales.\n",
        "\n",
        "**Principales Observaciones**\n",
        "\n",
        "\n",
        "\n",
        "1.   El modelo tiene problemas diferenciando accidentes leves y graves:\n",
        "  *   La mayoría de los accidentes leves (Slight) se están clasificando erróneamente como fatales (229 casos).\n",
        "  *   También hay 2964 accidentes graves (Serious) que el modelo predice erróneamente como fatales.\n",
        "\n",
        "2.   El modelo tiene un sesgo hacia la clase \"Fatal\":\n",
        "  *   19,404 accidentes fatales fueron correctamente clasificados, lo que es un buen resultado.\n",
        "  *   Sin embargo, un gran número de accidentes leves y graves se están agrupando como fatales, lo que podría significar un desbalance en los datos o que el modelo prioriza más los accidentes más severos.\n",
        "\n",
        "3.   Las clases \"Slight\" y \"Serious\" tienen bajos valores en la diagonal principal:\n",
        "  *   La cantidad de predicciones correctas en estas clases es baja, lo que sugiere que el modelo no logra aprender bien las diferencias entre estas categorías.\n",
        "\n",
        "La evaluación del modelo con la matriz de confusión revela que, si bien el modelo tiene un buen desempeño en la clasificación de accidentes fatales, presenta dificultades para diferenciar entre accidentes leves y graves. Esto se refleja en el alto número de falsos positivos en la categoría \"Fatal\", donde muchos accidentes leves y graves fueron erróneamente clasificados como fatales.\n",
        "\n",
        "Este comportamiento sugiere que el modelo podría estar influenciado por un desbalance en los datos, donde la categoría \"Fatal\" tiene un mayor número de casos en comparación con las otras clases.\n",
        "\n",
        "\n",
        "\n",
        "\n"
      ],
      "metadata": {
        "id": "b6xMIKgtbgEQ"
      }
    },
    {
      "cell_type": "markdown",
      "source": [
        "De acuerdo a lo anterior verificaremos el desbalanceo en las categorías de la variable objetivo."
      ],
      "metadata": {
        "id": "qrmZQe9yiIIi"
      }
    },
    {
      "cell_type": "code",
      "source": [
        "#Revisión de la Distribución de Clases\n",
        "sns.countplot(x=y)\n",
        "plt.title(\"Distribución de la Variable Objetivo\")\n",
        "plt.show()"
      ],
      "metadata": {
        "colab": {
          "base_uri": "https://localhost:8080/",
          "height": 472
        },
        "id": "WoxdyB5ldv4K",
        "outputId": "30991a54-b89f-48cd-ca34-a5920a8cb22f"
      },
      "execution_count": 19,
      "outputs": [
        {
          "output_type": "display_data",
          "data": {
            "text/plain": [
              "<Figure size 640x480 with 1 Axes>"
            ],
            "image/png": "[encoded data removed]"
          },
          "metadata": {}
        }
      ]
    },
    {
      "cell_type": "markdown",
      "source": [
        "Se puede observar que hay un desbalanceo notorio en la categoría \"Fatal\" por lo cual segun indagaciones se puede realizar un balanceo, donde utilizaremos la tecnica de balanceo SMOTE (Synthetic Minority Over-sampling Technique)."
      ],
      "metadata": {
        "id": "467rr-pIixwQ"
      }
    },
    {
      "cell_type": "markdown",
      "source": [
        "SMOTE genera nuevas muestras sintéticas para las clases minoritarias en lugar de simplemente duplicar datos existentes."
      ],
      "metadata": {
        "id": "AXgxuW2TjGqV"
      }
    },
    {
      "cell_type": "markdown",
      "source": [
        "#### **Aplicación de la técnica de balanceo SMOTE**"
      ],
      "metadata": {
        "id": "JD0CMXDpjKXM"
      }
    },
    {
      "cell_type": "code",
      "source": [
        "# Aplicar SMOTE al conjunto de entrenamiento\n",
        "smote = SMOTE(random_state=42)\n",
        "X_resampled, y_resampled = smote.fit_resample(X_train, y_train)\n",
        "\n",
        "# Verificar la distribución después del balanceo\n",
        "print(\"Distribución de clases después de SMOTE:\", Counter(y_resampled))"
      ],
      "metadata": {
        "colab": {
          "base_uri": "https://localhost:8080/"
        },
        "id": "gcuvP6H0d4mX",
        "outputId": "5c430949-5f5a-4020-96e3-b536e8b52fe9"
      },
      "execution_count": 20,
      "outputs": [
        {
          "output_type": "stream",
          "name": "stdout",
          "text": [
            "Distribución de clases después de SMOTE: Counter({1: 82042, 2: 82042, 0: 82042})\n"
          ]
        }
      ]
    },
    {
      "cell_type": "markdown",
      "source": [
        "Como se puede observar en el código anterior aplicamos Smote solo al conjunto de entrenamineto con el fin de crear ejemplos sintéticos en las clases minoritarias y así generar un nuevo conjunto de entrenamiento con clases equilibradas.\n",
        "\n",
        "Luego verificamos si el dataset se ha balanceado correctamente donde finalmente las tres categorías cuentan con 82042 casos."
      ],
      "metadata": {
        "id": "As2j82cvj6GV"
      }
    },
    {
      "cell_type": "markdown",
      "source": [
        "Ahora volvemos a entrenar el modelo de Árbol de Decisión con los datos balanceados."
      ],
      "metadata": {
        "id": "wW7LLsBXlbfl"
      }
    },
    {
      "cell_type": "code",
      "source": [
        "# Dividir en entrenamiento y prueba después del balanceo\n",
        "X_train, X_test, y_train, y_test = train_test_split(X_resampled, y_resampled, test_size=0.2, random_state=42)\n",
        "\n",
        "# Entrenar el modelo de Árbol de Decisión con los datos balanceados\n",
        "tree_model_smote = DecisionTreeClassifier(random_state=42)\n",
        "tree_model_smote.fit(X_resampled, y_resampled)\n",
        "\n",
        "# Hacer predicciones\n",
        "y_pred_tree_smote = tree_model_smote.predict(X_test)\n",
        "\n",
        "# Evaluar el modelo\n",
        "print(\"Árbol de Decisión con SMOTE:\")\n",
        "print(\"Accuracy:\", accuracy_score(y_test, y_pred_tree_smote))\n",
        "print(\"Precision:\", precision_score(y_test, y_pred_tree_smote, average='weighted'))\n",
        "print(\"Recall:\", recall_score(y_test, y_pred_tree_smote, average='weighted'))\n",
        "print(\"F1-Score:\", f1_score(y_test, y_pred_tree_smote, average='weighted'))\n"
      ],
      "metadata": {
        "colab": {
          "base_uri": "https://localhost:8080/"
        },
        "id": "nwpkgGE_fDgE",
        "outputId": "a6861261-7a8f-4c40-de06-43e49278431c"
      },
      "execution_count": 21,
      "outputs": [
        {
          "output_type": "stream",
          "name": "stdout",
          "text": [
            "Árbol de Decisión con SMOTE:\n",
            "Accuracy: 0.7870434323325072\n",
            "Precision: 0.7898604041253696\n",
            "Recall: 0.7870434323325072\n",
            "F1-Score: 0.7880520660459683\n"
          ]
        }
      ]
    },
    {
      "cell_type": "markdown",
      "source": [
        "Tras aplicar SMOTE para balancear las clases en el dataset y entrenar un Árbol de Decisión, se obtuvieron los siguientes resultados:\n",
        "\n",
        "  *   **Accuracy:** 78.70%\n",
        "  *   **Precision:** 78.99%\n",
        "  *   **Recall:**  78.70%\n",
        "  *   **F1-Score:** 78.81%\n"
      ],
      "metadata": {
        "id": "V_PH2AC2oq6U"
      }
    },
    {
      "cell_type": "code",
      "source": [
        "# Matriz de confusión\n",
        "conf_matrix_tree_smote = confusion_matrix(y_test, y_pred_tree_smote)\n",
        "print(\"Matriz de Confusión Árbol de Decisión:\\n\", conf_matrix_tree_smote)\n",
        "# Definir etiquetas de clases reales\n",
        "class_labels = [\"Slight\", \"Serious\", \"Fatal\"]\n",
        "\n",
        "# Crear el heatmap\n",
        "plt.figure(figsize=(8, 6))\n",
        "sns.heatmap(conf_matrix_tree_smote, annot=True, fmt=\"d\", cmap=\"Blues\", xticklabels=class_labels, yticklabels=class_labels)\n",
        "\n",
        "# Personalizar el gráfico\n",
        "plt.xlabel(\"Predicción\")\n",
        "plt.ylabel(\"Clase Real\")\n",
        "plt.title(\"Matriz de Confusión - Árbol de Decisión con SMOTE\")\n",
        "plt.show()"
      ],
      "metadata": {
        "colab": {
          "base_uri": "https://localhost:8080/",
          "height": 633
        },
        "id": "aY7a2kWyk8xD",
        "outputId": "b50d688e-b1ce-46a6-922a-14fafba3556c"
      },
      "execution_count": 22,
      "outputs": [
        {
          "output_type": "stream",
          "name": "stdout",
          "text": [
            "Matriz de Confusión Árbol de Decisión:\n",
            " [[14419  1288   771]\n",
            " [  824 11817  3920]\n",
            " [  498  3182 12507]]\n"
          ]
        },
        {
          "output_type": "display_data",
          "data": {
            "text/plain": [
              "<Figure size 800x600 with 2 Axes>"
            ],
            "image/png": "[encoded data removed]"
          },
          "metadata": {}
        }
      ]
    },
    {
      "cell_type": "markdown",
      "source": [
        "####**Análisis de los resultados con el balanceo SMOTE**"
      ],
      "metadata": {
        "id": "FPcyxty_m8fR"
      }
    },
    {
      "cell_type": "markdown",
      "source": [
        "Comparando con el **Árbol de Decisión sin balanceo**, observamos mejoras en varios aspectos:\n",
        "\n",
        "✅ Aumento en Accuracy (de 0.817 a 0.787) → Puede parecer una caída, pero refleja un mejor equilibrio entre las clases.\n",
        "\n",
        "✅ Precision y Recall están más alineadas → El modelo no está sesgado hacia una sola clase.\n",
        "\n",
        "✅ F1-Score mejoró → Indica que la relación entre precisión y recall es más balanceada."
      ],
      "metadata": {
        "id": "V9-7tJ85nNzp"
      }
    },
    {
      "cell_type": "markdown",
      "source": [
        "La distribución de errores muestra mejoras:\n",
        "\n",
        "✅ Clase \"Slight\" (Leve) → Se observa una menor confusión con otras categorías.\n",
        "\n",
        "✅ Clase \"Serious\" (Grave) → Se observa una reducción en los falsos negativos, lo que significa que el modelo detecta mejor los accidentes graves.\n",
        "\n",
        "✅ Clase \"Fatal\" → La cantidad de accidentes fatales correctamente clasificados ha aumentado, con una menor confusión con los accidentes graves.\n",
        "\n",
        "Comparando con la matriz sin balanceo, donde había un fuerte sesgo hacia la clase mayoritaria, SMOTE ha ayudado a que el modelo reconozca mejor los casos menos frecuentes."
      ],
      "metadata": {
        "id": "XhbjQi2TnwAw"
      }
    },
    {
      "cell_type": "markdown",
      "source": [
        "####**Conclusión**\n"
      ],
      "metadata": {
        "id": "UNNcxIzfpNfX"
      }
    },
    {
      "cell_type": "markdown",
      "source": [
        "El uso de SMOTE permitió balancear las clases en el dataset, lo que se reflejó en una mejora en la capacidad del modelo para identificar accidentes serios y fatales, que antes eran subrepresentados.\n",
        "\n",
        "El Árbol de Decisión alcanzó una precisión del 78.9%, con una exactitud global del 78.7%. La matriz de confusión muestra que, aunque el modelo ha mejorado la clasificación de accidentes graves y fatales, todavía existe cierta confusión entre estas categorías. Esto sugiere que algunos patrones en los datos pueden ser similares, lo que dificulta una separación clara.\n",
        "\n",
        "En general, la aplicación de SMOTE ayudó a reducir el sesgo hacia la clase mayoritaria, permitiendo un análisis más equitativo de la severidad de los accidentes y proporcionando una visión más realista del desempeño del modelo en un escenario balanceado."
      ],
      "metadata": {
        "id": "r_l91xDO1cIo"
      }
    },
    {
      "cell_type": "markdown",
      "source": [
        "###**7.2. K-Nearest Neighbors (KNN)**"
      ],
      "metadata": {
        "id": "vUrpeb7taHbz"
      }
    },
    {
      "cell_type": "markdown",
      "source": [
        "Ahora, procederemos a validar los resultados utilizando el modelo K-Nearest Neighbors (KNN) para comparar su desempeño con el Árbol de Decisión y analizar cómo maneja la clasificación de la severidad de los accidentes después del balanceo con SMOTE."
      ],
      "metadata": {
        "id": "TxFQNwntw9dJ"
      }
    },
    {
      "cell_type": "code",
      "source": [
        "# Entrenar el modelo KNN\n",
        "knn_model = KNeighborsClassifier(n_neighbors=5)  # Puedes probar con otros valores de 'n_neighbors'\n",
        "knn_model.fit(X_resampled, y_resampled)\n",
        "\n",
        "# Hacer predicciones\n",
        "y_pred_knn = knn_model.predict(X_test)\n",
        "\n",
        "# Evaluar el modelo\n",
        "print(\"KNN:\")\n",
        "print(\"Accuracy:\", accuracy_score(y_test, y_pred_knn))\n",
        "print(\"Precision:\", precision_score(y_test, y_pred_knn, average='weighted'))\n",
        "print(\"Recall:\", recall_score(y_test, y_pred_knn, average='weighted'))\n",
        "print(\"F1-Score:\", f1_score(y_test, y_pred_knn, average='weighted'))"
      ],
      "metadata": {
        "colab": {
          "base_uri": "https://localhost:8080/"
        },
        "id": "_kyZg_chaL3j",
        "outputId": "5ad4191a-5a2f-4216-d411-c4e4e9c2f7e1"
      },
      "execution_count": 23,
      "outputs": [
        {
          "output_type": "stream",
          "name": "stdout",
          "text": [
            "KNN:\n",
            "Accuracy: 0.6872181367569984\n",
            "Precision: 0.7705753420292674\n",
            "Recall: 0.6872181367569984\n",
            "F1-Score: 0.6791418101338725\n"
          ]
        }
      ]
    },
    {
      "cell_type": "code",
      "source": [
        "# Matriz de confusión\n",
        "conf_matrix_knn = confusion_matrix(y_test, y_pred_knn)\n",
        "print(\"Matriz de Confusión (KNN):\\n\", conf_matrix_knn)\n",
        "\n",
        "# Crear el heatmap\n",
        "plt.figure(figsize=(8, 6))\n",
        "sns.heatmap(conf_matrix_knn, annot=True, fmt=\"d\", cmap=\"Blues\", xticklabels=class_labels, yticklabels=class_labels)\n",
        "\n",
        "# Personalizar el gráfico\n",
        "plt.xlabel(\"Predicción\")\n",
        "plt.ylabel(\"Clase Real\")\n",
        "plt.title(\"Matriz de Confusión - K-Nearest Neighbors (KNN) con SMOTE\")\n",
        "plt.show()"
      ],
      "metadata": {
        "colab": {
          "base_uri": "https://localhost:8080/",
          "height": 634
        },
        "id": "vWQUDnBiqDTC",
        "outputId": "f461173b-8bb7-4dc6-cce7-b04403dcba2f"
      },
      "execution_count": 24,
      "outputs": [
        {
          "output_type": "stream",
          "name": "stdout",
          "text": [
            "Matriz de Confusión (KNN):\n",
            " [[12701   233  3544]\n",
            " [  402  6237  9922]\n",
            " [  274  1022 14891]]\n"
          ]
        },
        {
          "output_type": "display_data",
          "data": {
            "text/plain": [
              "<Figure size 800x600 with 2 Axes>"
            ],
            "image/png": "[encoded data removed]"
          },
          "metadata": {}
        }
      ]
    },
    {
      "cell_type": "markdown",
      "source": [
        "####**Evaluación del Modelo K-Nearest Neighbors (KNN)**"
      ],
      "metadata": {
        "id": "QHp-nu5QxwAY"
      }
    },
    {
      "cell_type": "markdown",
      "source": [
        "  *   Accuracy: 68.72% (menor que el Árbol de Decisión)\n",
        "  *   Precision: 77.06% (superior al Árbol de Decisión, lo que indica menos falsos positivos)\n",
        "  *   Recall: 68.72% (inferior, sugiere que está perdiendo más casos de la clase minoritaria)\n",
        "  *   F1-Score: 67.91%\n",
        "\n",
        "**Matriz de Confusión:**\n",
        "\n",
        "✅ La clase Slight (Leve) es la mejor clasificada, con pocos errores.\n",
        "\n",
        "⚠️ La clase Serious (Grave) tiene una alta confusión con la clase Fatal, lo que afecta el rendimiento del modelo.\n",
        "\n",
        "⚠️ La clase Fatal sigue confundida con la clase Serious, aunque su detección es mejor que antes."
      ],
      "metadata": {
        "id": "1Vuopr4Ax3Em"
      }
    },
    {
      "cell_type": "markdown",
      "source": [
        "####**Conclusión**"
      ],
      "metadata": {
        "id": "xKKBdPcCyhgT"
      }
    },
    {
      "cell_type": "markdown",
      "source": [
        "KNN muestra un desempeño inferior en comparación con el Árbol de Decisión, especialmente en la identificación de accidentes graves. Aunque su precisión es mayor, su menor recall indica que está dejando pasar más casos de accidentes graves sin detectarlos correctamente. Esto sugiere que KNN puede no ser el modelo más adecuado para este problema."
      ],
      "metadata": {
        "id": "HDnZtF9x1XqD"
      }
    },
    {
      "cell_type": "markdown",
      "source": [
        "A continuación, validaremos los resultados con Random Forest para evaluar su rendimiento frente a estos modelos."
      ],
      "metadata": {
        "id": "4f1pv5vryt17"
      }
    },
    {
      "cell_type": "markdown",
      "source": [
        "###**7.3. Random Forest**"
      ],
      "metadata": {
        "id": "h3p7RRDdaY9Z"
      }
    },
    {
      "cell_type": "code",
      "source": [
        "# Entrenar el modelo Random Forest\n",
        "rf_model = RandomForestClassifier(random_state=42, n_estimators=100)\n",
        "rf_model.fit(X_resampled, y_resampled)\n",
        "\n",
        "# Hacer predicciones\n",
        "y_pred_rf = rf_model.predict(X_test)\n",
        "\n",
        "# Evaluar el modelo\n",
        "print(\"Random Forest con SMOTE:\")\n",
        "print(\"Accuracy:\", accuracy_score(y_test, y_pred_rf))\n",
        "print(\"Precision:\", precision_score(y_test, y_pred_rf, average='weighted'))\n",
        "print(\"Recall:\", recall_score(y_test, y_pred_rf, average='weighted'))\n",
        "print(\"F1-Score:\", f1_score(y_test, y_pred_rf, average='weighted'))"
      ],
      "metadata": {
        "colab": {
          "base_uri": "https://localhost:8080/"
        },
        "id": "7Nq7ZFItadrF",
        "outputId": "c03e53b8-2b80-4c7e-fb32-c16bff412533"
      },
      "execution_count": 25,
      "outputs": [
        {
          "output_type": "stream",
          "name": "stdout",
          "text": [
            "Random Forest con SMOTE:\n",
            "Accuracy: 0.7870434323325072\n",
            "Precision: 0.7902008322143886\n",
            "Recall: 0.7870434323325072\n",
            "F1-Score: 0.7879622005785675\n"
          ]
        }
      ]
    },
    {
      "cell_type": "code",
      "source": [
        "# Matriz de confusión\n",
        "conf_matrix_rf = confusion_matrix(y_test, y_pred_rf)\n",
        "print(\"Matriz de Confusión Random Forest:\\n\", conf_matrix_rf)\n",
        "\n",
        "# Crear el heatmap\n",
        "plt.figure(figsize=(8, 6))\n",
        "sns.heatmap(conf_matrix_rf, annot=True, fmt=\"d\", cmap=\"Blues\", xticklabels=class_labels, yticklabels=class_labels)\n",
        "\n",
        "# Personalizar el gráfico\n",
        "plt.xlabel(\"Predicción\")\n",
        "plt.ylabel(\"Clase Real\")\n",
        "plt.title(\"Matriz de Confusión - Random Forest con SMOTE\")\n",
        "plt.show()"
      ],
      "metadata": {
        "colab": {
          "base_uri": "https://localhost:8080/",
          "height": 633
        },
        "id": "49o33-A2rgFY",
        "outputId": "7ebbac41-5247-46d3-ee1e-e5dc6a6d8f64"
      },
      "execution_count": 26,
      "outputs": [
        {
          "output_type": "stream",
          "name": "stdout",
          "text": [
            "Matriz de Confusión Random Forest:\n",
            " [[14401  1282   795]\n",
            " [  820 11662  4079]\n",
            " [  483  3024 12680]]\n"
          ]
        },
        {
          "output_type": "display_data",
          "data": {
            "text/plain": [
              "<Figure size 800x600 with 2 Axes>"
            ],
            "image/png": "[encoded data removed]"
          },
          "metadata": {}
        }
      ]
    },
    {
      "cell_type": "markdown",
      "source": [
        "####**Evaluación del Modelo Random Forest**"
      ],
      "metadata": {
        "id": "8ga5LVz20XUm"
      }
    },
    {
      "cell_type": "markdown",
      "source": [
        "  *   Accuracy: 78.70% (ligeramente superior al Árbol de Decisión y significativamente mejor que KNN).\n",
        "  *   Precision: 79.02% (superior a los otros modelos, indicando menos falsos positivos).\n",
        "  *   Recall: 78.70% (similar al Árbol de Decisión, mejor que KNN).\n",
        "  *   F1-Score: 78.80% (mejor equilibrio entre precisión y recall).\n",
        "\n",
        "**Matriz de Confusión:**\n",
        "\n",
        "✅ Slight (Leve) tiene una clasificación bastante precisa, con pocos errores.\n",
        "\n",
        "✅ Serious (Grave) muestra una ligera mejora en la reducción de falsos negativos en comparación con KNN.\n",
        "\n",
        "✅ Fatal también es mejor clasificada que en los otros modelos, con menos confusión."
      ],
      "metadata": {
        "id": "Tv6-VD5X0em1"
      }
    },
    {
      "cell_type": "markdown",
      "source": [
        "####**Conclusión**"
      ],
      "metadata": {
        "id": "kbidqx9Z1Edu"
      }
    },
    {
      "cell_type": "markdown",
      "source": [
        "Random Forest ofrece un mejor rendimiento general en comparación con KNN y Árbol de Decisión. Tiene la mayor precisión y recall, lo que significa que clasifica mejor los accidentes graves y fatales sin sacrificar demasiado la exactitud. La matriz de confusión muestra que sigue existiendo cierta confusión entre las clases Serious y Fatal, pero en menor medida que con KNN.\n",
        "\n",
        "En términos de clasificación, Random Forest parece ser la mejor opción hasta ahora, logrando un equilibrio entre identificar correctamente las clases y mantener una alta precisión en las predicciones."
      ],
      "metadata": {
        "id": "uC7u7Y3Q1gYK"
      }
    },
    {
      "cell_type": "markdown",
      "source": [
        "##**8. Comparación de modelos**"
      ],
      "metadata": {
        "id": "Av79qEOMakqJ"
      }
    },
    {
      "cell_type": "markdown",
      "source": [
        "Creamos un DataFrame para comparar los resultados de los tres modelos."
      ],
      "metadata": {
        "id": "AA_dyjuKapkO"
      }
    },
    {
      "cell_type": "code",
      "source": [
        "# Crear un diccionario con los resultados de los modelos\n",
        "data = {\n",
        "    'Modelo': ['Árbol de Decisión', 'KNN', 'Random Forest'],\n",
        "    'Accuracy': [0.7870, 0.6872, 0.7870],\n",
        "    'Precision': [0.7899, 0.7706, 0.7902],\n",
        "    'Recall': [0.7870, 0.6872, 0.7870],\n",
        "    'F1-Score': [0.7881, 0.6791, 0.7880]\n",
        "}\n",
        "\n",
        "# Crear el DataFrame\n",
        "df_comparacion = pd.DataFrame(data)\n",
        "\n",
        "# Mostrar el DataFrame\n",
        "print(df_comparacion)"
      ],
      "metadata": {
        "colab": {
          "base_uri": "https://localhost:8080/"
        },
        "id": "91N-dhtIaqcN",
        "outputId": "ccd3bc03-c56b-4d0d-c03c-509afc8c30d2"
      },
      "execution_count": null,
      "outputs": [
        {
          "output_type": "stream",
          "name": "stdout",
          "text": [
            "              Modelo  Accuracy  Precision  Recall  F1-Score\n",
            "0  Árbol de Decisión    0.7870     0.7899  0.7870    0.7881\n",
            "1                KNN    0.6872     0.7706  0.6872    0.6791\n",
            "2      Random Forest    0.7870     0.7902  0.7870    0.7880\n"
          ]
        }
      ]
    },
    {
      "cell_type": "code",
      "source": [
        "colors = [\"#76a5c3\", \"#7ec8c9\", \"#87c87f\"]\n",
        "\n",
        "# Configurar el gráfico de barras\n",
        "metricas = [\"Accuracy\", \"Precision\", \"Recall\", \"F1-Score\"]\n",
        "x = np.arange(len(metricas))\n",
        "width = 0.25\n",
        "\n",
        "fig, ax = plt.subplots(figsize=(10, 6))\n",
        "\n",
        "# Graficar cada modelo\n",
        "for i, modelo in enumerate(data[\"Modelo\"]):\n",
        "    ax.bar(x + i * width, df_comparacion.iloc[i, 1:], width, label=modelo, color=colors[i]),\n",
        "\n",
        "\n",
        "# Configurar etiquetas y título\n",
        "ax.set_xlabel(\"Métricas\")\n",
        "ax.set_ylabel(\"Valor\")\n",
        "ax.set_title(\"Comparación de Modelos de Clasificación\")\n",
        "ax.set_xticks(x + width)\n",
        "ax.set_xticklabels(metricas)\n",
        "ax.legend(loc='upper left', bbox_to_anchor=(1, 1))\n",
        "\n",
        "# Mostrar gráfico\n",
        "plt.show()"
      ],
      "metadata": {
        "colab": {
          "base_uri": "https://localhost:8080/",
          "height": 565
        },
        "id": "bZWqx7_R2fzM",
        "outputId": "165d21ab-a14f-4f78-bc04-d8c7ca6b2d8d"
      },
      "execution_count": null,
      "outputs": [
        {
          "output_type": "display_data",
          "data": {
            "text/plain": [
              "<Figure size 1000x600 with 1 Axes>"
            ],
            "image/png": "[encoded data removed]"
          },
          "metadata": {}
        }
      ]
    },
    {
      "cell_type": "markdown",
      "source": [
        "Hemos evaluado tres algoritmos de clasificación después de aplicar SMOTE para balancear las clases: **Árbol de Decisión, KNN y Random Forest.** Para compararlos, tomamos en cuenta las métricas Accuracy, Precision, Recall y F1-Score.\n",
        "\n",
        "1.   **Árbol de Decisión**\n",
        "\n",
        "  🔹  Accuracy: 78.7% | Precision: 78.9% | Recall: 78.7% | F1-Score: 78.8%\n",
        "\n",
        "  ✅  Presenta un buen balance entre precisión y recall, lo que indica que logra detectar bien las distintas clases sin favorecer demasiado a ninguna.\n",
        "\n",
        "  ⚠️   Sin embargo, puede ser sensible a datos ruidosos y tiende a sobreajustarse.\n",
        "\n",
        "2.   **K-Nearest Neighbors (KNN)**\n",
        "\n",
        "  🔹   Accuracy: 68.7% | Precision: 77.0% | Recall: 68.7% | F1-Score: 67.9%\n",
        "\n",
        "  ⚠️   Es el modelo con menor desempeño en general.\n",
        "\n",
        "  ⚠️  Su menor accuracy y recall indican que tiene dificultades para clasificar correctamente los accidentes graves y fatales.\n",
        "\n",
        "  ⚠️   Es un método basado en proximidad, lo que puede explicar su menor rendimiento en datasets con alta dimensionalidad.\n",
        "\n",
        "3.   **Random Forest**\n",
        "\n",
        "  🔹  Accuracy: 78.7% | Precision: 79.0% | Recall: 78.7% | F1-Score: 78.8%\n",
        "\n",
        "  ✅   Al ser un conjunto de múltiples árboles de decisión, mejora la generalización y reduce el sobreajuste.\n",
        "\n",
        "  ⚠️   Su menor accuracy y recall indican que tiene dificultades para clasificar correctamente los accidentes graves y fatales.\n",
        "\n",
        "  ✅   Logra un desempeño similar al Árbol de Decisión, pero con mayor estabilidad y menos sensibilidad a datos ruidosos.\n",
        "\n",
        "\n",
        "\n"
      ],
      "metadata": {
        "id": "ab6B0mn25tFB"
      }
    },
    {
      "cell_type": "markdown",
      "source": [
        "#**9. Conclusión**"
      ],
      "metadata": {
        "id": "Dpajl3218Uea"
      }
    },
    {
      "cell_type": "markdown",
      "source": [
        "El modelo que obtuvo el mejor desempeño fue Random Forest. Aunque el Árbol de Decisión mostró métricas muy similares, Random Forest tiene la ventaja de reducir el sobreajuste y mejorar la estabilidad de la clasificación.\n",
        "\n",
        "**¿Qué podemos interpretar en relación con los accidentes de tráfico?**\n",
        "  *   El modelo **Random Forest** puede ayudar a identificar patrones en los accidentes con mayor precisión.\n",
        "  *   Los datos muestran que es más efectivo en clasificar la severidad de los accidentes, lo que puede ser útil para diseñar estrategias de prevención.\n",
        "  *   La confusión entre clases graves y fatales sugiere que hay similitudes en sus características, lo que indica la importancia de analizar factores clave como condiciones climáticas, velocidad y tipo de vía.\n",
        "  \n",
        "En conclusión, este análisis sugiere que Random Forest es una herramienta valiosa para predecir la severidad de un accidente de tránsito y podría utilizarse en iniciativas de seguridad vial para reducir la cantidad de accidentes graves y fatales."
      ],
      "metadata": {
        "id": "maat1Yoj8dzn"
      }
    }
  ]
}